{
 "cells": [
  {
   "cell_type": "markdown",
   "metadata": {},
   "source": [
    "### Compiled by :\n",
    "      Alem H Fitwi, \n",
    "      PhD Student, ECE (Privacy, ML/DNN, & Chaotic Encryption)\n",
    "      GA-Data Analystics Specialist,\n",
    "      Binghamton University-State University of New York\n",
    "      Since August, 2017 "
   ]
  },
  {
   "cell_type": "markdown",
   "metadata": {},
   "source": [
    "# 5. Advanced SQL Commands"
   ]
  },
  {
   "cell_type": "markdown",
   "metadata": {},
   "source": [
    "### 5.1 Overview of Advanced SQL Commands"
   ]
  },
  {
   "cell_type": "markdown",
   "metadata": {},
   "source": [
    "- TImestamps and Extract\n",
    "- Math Functions\n",
    "- STring Functions\n",
    "- Sub-query (a query within a query)\n",
    "- Self-Join"
   ]
  },
  {
   "cell_type": "markdown",
   "metadata": {},
   "source": [
    "### 5.2  Timestamps and Extract "
   ]
  },
  {
   "cell_type": "markdown",
   "metadata": {},
   "source": [
    "- We will go over a few commands that report back time and date information.\n",
    "- These will be more useful when creating our own tables and databases, rather than when querying a database.\n",
    "- PostgreSQL can hold date and time information\n",
    "    - TIME- Contains only time\n",
    "    - DATE- Contains only date\n",
    "    - TIMESTAMP- Contains date and time\n",
    "    - TIMESTAMPTZ- Contains date, time, and timezone\n",
    "- Careful considerations should be made when designing a table and database and choosing a time data type.\n",
    "- Depending on the situation you may or may not need the full level of TIMESTAMPTZ.\n",
    "- ***Remember, you can always remove historical information, but you can't add it!***\n",
    "- Let's explore functions and operations related to these specific data types:\n",
    "    - TIMEZONE\n",
    "    \n",
    "            SELECT TIMEZONE(); //not on SQLite\n",
    "    - NOW\n",
    "    \n",
    "            SELECT NOW(); //Not on SQLite\n",
    "            SELECT DATETIME('now'); //SQLite\n",
    "            SELECT DATETIME('now','localtime');\n",
    "    - TIMEOFDAY\n",
    "    \n",
    "            SELECT TIMEOFDAY();\n",
    "    - CURRENT_TIME\n",
    "    \n",
    "            SELECT CURRENT_TIME;\n",
    "    - CURRENT_DATE\n",
    "    \n",
    "            SELECT CURRENT_DATE"
   ]
  },
  {
   "cell_type": "markdown",
   "metadata": {},
   "source": [
    "### Examples"
   ]
  },
  {
   "cell_type": "code",
   "execution_count": 1,
   "metadata": {},
   "outputs": [],
   "source": [
    "import sqlite3\n",
    "from sqlalchemy import create_engine"
   ]
  },
  {
   "cell_type": "markdown",
   "metadata": {},
   "source": [
    "- Extracting information from a time based data type using:\n",
    "    - EXTRACT()\n",
    "    - AGE()\n",
    "    - TO_CHAR()\n",
    "- EXTRACT(): allows you to extract or obtain a sub-component of a date value:\n",
    "    - YEAR\n",
    "    - MONTH\n",
    "    - DAY\n",
    "    - WEEK\n",
    "    - QUARTER\n",
    "- Allows us to extract or obtain a sub-component of a date value.\n",
    "    - EXTRACT(YEAR FROM date_col)\n",
    "    - EXTRACT(MONTH FROM date_col)\n",
    "    - EXTRACT(DAY FROM date_col)\n",
    "    - EXTRACT(QUARTER FROM date_col)"
   ]
  },
  {
   "cell_type": "markdown",
   "metadata": {},
   "source": [
    "##### SQLite: Extract Year, Month, Day, Hour, Minute, and Seconds\n",
    "- strftime(format, timestring, modifier, modifier, ...)\n",
    "       \n",
    "       SELECT strftime('%Y-%m-%d %H:%M:%S', 'now') AS DateTIme\n",
    "       \n",
    "       -------------------------------\n",
    "\n",
    "        SELECT start_date,strftime('%Y',start_date) as \"Year\",\n",
    "        strftime('%m',start_date) as \"Month\",\n",
    "        strftime('%d',start_date) as \"Day\"\n",
    "        FROM job_history;\n",
    "       -------------------------------\n",
    "\n",
    "       SELECT strftime('%Y', payment_date) AS Year, \n",
    "       strftime('%m', payment_date) AS Month, \n",
    "\t   strftime('%d', payment_date) AS Day,\n",
    "\t   strftime('%H', payment_date) AS Hour,\n",
    "\t   strftime('%M', payment_date) AS Minute,\n",
    "\t   strftime('%S', payment_date) AS Second\n",
    "       FROM payment;"
   ]
  },
  {
   "cell_type": "markdown",
   "metadata": {},
   "source": [
    "1. AGE(): //not in sqlite\n",
    "    - calculates and returns the current age given a timestamp.\n",
    "    - Useage:\n",
    "        - AGE(date_col)\n",
    "    - Returns\n",
    "        - 13 years 1 month 5 days 01:34:13.003423            "
   ]
  },
  {
   "cell_type": "markdown",
   "metadata": {},
   "source": [
    "### 5.3 TO_CHAR\n",
    "\n",
    "TO_CHAR(): //not in sqlite\n",
    "    - General function to convert some data type to text\n",
    "    - Useful for timestamp formatting\n",
    "    - Usage\n",
    "        - TO_CHAR(date_col, 'mm-dd-yyyy')\n",
    "        \n",
    "            \n",
    "              SELECT TO_CHAR(payment_date, 'mon/dd/YYYY')\n",
    "              FROM payment;\n",
    "              \n",
    "              feb/20/2021\n",
    "              -----------------------\n",
    "              SELECT TO_CHAR(payment_date, 'MONTH-YYYY')\n",
    "              FROM payment;\n",
    "              \n",
    "              FEBRUARY-2021\n",
    "              -----------------\n",
    "              SELECT TO_CHAR(payment_date, 'MM-dd-YYYY')\n",
    "              FROM payment;\n",
    "              \n",
    "              02-20-2021"
   ]
  },
  {
   "cell_type": "markdown",
   "metadata": {},
   "source": [
    "### 5.4 Timestamps and Extract - Challenge Tasks"
   ]
  },
  {
   "cell_type": "markdown",
   "metadata": {},
   "source": [
    "### 5.5 Mathematical Functions and Operators"
   ]
  },
  {
   "cell_type": "markdown",
   "metadata": {},
   "source": [
    "##### Mathematical Operators\n",
    "|Operator|Description|\n",
    "| --- | --- |\n",
    "|+|Addition|\n",
    "|-|Subtraction|\n",
    "|\\*|Multiplication|\n",
    "|/|Division|\n",
    "|%|Modulo|\n",
    "|^|Exponentiation|\n",
    "|\\|/|square root|\n",
    "|!|factorial|\n",
    "|!!|factorial prefix|\n",
    "|@|absolute value|\n",
    "|&|bitwise AND|\n",
    "|\\||bitwise OR|\n",
    "|\\#|bitwise XOR|\n",
    "|~|bitwise NOT|\n",
    "|<<|bitwise left|\n",
    "|>>|bitwise right|"
   ]
  },
  {
   "cell_type": "markdown",
   "metadata": {},
   "source": [
    "             SELECT ROUND(rental_rate/replacement_cost,2)*100 AS Rate FROM film;"
   ]
  },
  {
   "cell_type": "markdown",
   "metadata": {},
   "source": [
    "### 5.6 String Functions and Operators"
   ]
  },
  {
   "cell_type": "markdown",
   "metadata": {},
   "source": [
    "- string || string --> text\n",
    "- string || non-string --> text\n",
    "- bit_length(string) --> int\n",
    "- char_length(string) --> int\n",
    "- lower(string)\n",
    "\n",
    "        SELECT Fname || '  ' ||  Lname AS Full_name FROM customer\n",
    "        ------------------\n",
    "        SELECT LOWER(LEFT(Fname, 1)) || LOWER(Lname)||'@gmail.com' AS email\n",
    "        FROM customer;"
   ]
  },
  {
   "cell_type": "markdown",
   "metadata": {},
   "source": [
    "### 5.9 SubQuery + Exists function"
   ]
  },
  {
   "cell_type": "markdown",
   "metadata": {},
   "source": [
    "- A subquery allows you to construct complex queries, essentially performing a query on the results of another query.\n",
    "- The sytanx is straightforward and involves two SELECT statements.\n",
    "\n",
    "        SELECT student, grade\n",
    "        FROM test_scores\n",
    "        WHERE grade > (SELECT AVG(grade) \n",
    "                       FROM test_score)\n",
    "        -------------------------------\n",
    "        //subquer --> single result\n",
    "        SELECT title, rental_rate FROM film\n",
    "        WHERE rental_rate > (SELECT AVG(rental_rate) FROM film);\n",
    "        ------------------------------\n",
    "        // subquery --> a list,  used with IN\n",
    "        SELECT film_id, title FROM film\n",
    "        WHERE film_id IN (SELECT inventory.film_id FROM rental INNER JOIN inventory ON inventory.inventory_id =\n",
    "                  rental.inventory_id WHERE return_date BETWEEN '2005-05-29' AND '2005-05-30')\n",
    "        ORDER BY title;\n",
    "        ------------------------------\n",
    "- The EXISTS operator is used to test for existence of rows in a subquery.\n",
    "- Typically a subsery is passed in the EXISTS() function to check if any rows are returned with the subquery.\n",
    "- Typical syntax of EXISTS:\n",
    "\n",
    "        SELECT column_name\n",
    "        FROM table_name\n",
    "        WHERE EXISTS\n",
    "        (SELECT column_name FROM\n",
    "         table_name WHERE condition);\n",
    "- Subqueries and EXISTS are best learned through examples.\n",
    "\n",
    "       SELECT Fname, Lname FROM customer AS c\n",
    "       WHERE EXISTS (SELECT * FROM payment as p \n",
    "                     WHERE p.customer_id =\n",
    "                           c.customer_id\n",
    "                           AND amount > 11)\n",
    "       \n",
    "       ELECT Fname, Lname FROM customer AS c\n",
    "       WHERE NOT EXISTS (SELECT * FROM payment as p \n",
    "                     WHERE p.customer_id =\n",
    "                           c.customer_id\n",
    "                           AND amount > 11)"
   ]
  },
  {
   "cell_type": "markdown",
   "metadata": {},
   "source": [
    "### 5.10  Self-Join"
   ]
  },
  {
   "cell_type": "markdown",
   "metadata": {},
   "source": [
    "- A self-join is a query in which a table is joined to itself.\n",
    "- Self-joins are useful for comparing values in a column of rows within the same table.\n",
    "- The self-join can be viewed as a join of two copies of the same table.\n",
    "- The table is not actually copied, but SQL performs the command as though it were.\n",
    "- There is no special keyword for self-join, it is simply standard JOIN systanx with the same table in both parts.\n",
    "- HOwever, when using a self-join it is necessary to use an alias for the table, otherwise the table names would be ambiguous\n",
    "- Let's see a syntax example of this.\n",
    "- Syntax:\n",
    "\n",
    "        SELECT tableA.col, TableB.col\n",
    "        FROM table AS tableA\n",
    "        JOIN table AS TableB ON \n",
    "        tableA.some_col = tableB.other_col\n",
    "        \n",
    "        SELECT emp.name, report.name\n",
    "        FROM employees AS emp\n",
    "        JOIN employees AS report ON \n",
    "        emp.emp_id = report.report_id;\n",
    "        \n",
    "- Example: from the film table, find all the films that have the same length.\n",
    "\n",
    "        SELECT f1.title, f2.title, f1.length\n",
    "        FROM film as f1\n",
    "        INNER JOIN film AS f2 ON f1.film_id != f2.film_id\n",
    "        AND f1.length = f2.length"
   ]
  },
  {
   "cell_type": "code",
   "execution_count": null,
   "metadata": {},
   "outputs": [],
   "source": []
  },
  {
   "cell_type": "code",
   "execution_count": null,
   "metadata": {},
   "outputs": [],
   "source": []
  }
 ],
 "metadata": {
  "kernelspec": {
   "display_name": "Python 3",
   "language": "python",
   "name": "python3"
  },
  "language_info": {
   "codemirror_mode": {
    "name": "ipython",
    "version": 3
   },
   "file_extension": ".py",
   "mimetype": "text/x-python",
   "name": "python",
   "nbconvert_exporter": "python",
   "pygments_lexer": "ipython3",
   "version": "3.7.4"
  }
 },
 "nbformat": 4,
 "nbformat_minor": 4
}
