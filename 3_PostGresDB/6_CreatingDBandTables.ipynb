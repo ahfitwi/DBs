{
 "cells": [
  {
   "cell_type": "markdown",
   "metadata": {},
   "source": [
    "### Compiled by :\n",
    "      Alem H Fitwi, \n",
    "      PhD Student, ECE (Privacy, ML/DNN, & Chaotic Encryption)\n",
    "      GA-Data Analystics Specialist,\n",
    "      Binghamton University-State University of New York\n",
    "      Since August, 2017 "
   ]
  },
  {
   "cell_type": "markdown",
   "metadata": {},
   "source": [
    "# 6.Creating Databases and \n",
    "\n",
    "### 6.1 Introduction to Section\n",
    "- Defining, Manipulating, and Control Commands\n",
    "- Querying Tables\n",
    "- Creating Database and Tables\n",
    "- Modifying Tables\n",
    "\n",
    "- In this section:\n",
    "    - Data Typse\n",
    "    - Primary and Foreign Keys\n",
    "    - Constraints\n",
    "    - CREATE\n",
    "    - INSERT\n",
    "    - UPDATE\n",
    "    - DELETE, ALTER, DROP"
   ]
  },
  {
   "cell_type": "markdown",
   "metadata": {},
   "source": [
    "### 6.2 Data Types\n",
    "- Boolean: True or False\n",
    "- Character: char, varchar, and text --> phone#\n",
    "- Numeric: integer and floating-point number\n",
    "- Temporal: date, time, timestamp, and interval\n",
    "- UUID: Universally Unique Identifier\n",
    "- Array: stores an array of strings, numbers, etc\n",
    "- JSON\n",
    "- Hstore key-value pair\n",
    "- Special types such as network address and geometric data.\n",
    "\n",
    "***Remember you can always remove historical information you've decided you are not using, but you can't go back in time to add in information.***\n",
    "\n",
    "- Always google for best practices!"
   ]
  },
  {
   "cell_type": "markdown",
   "metadata": {},
   "source": [
    "### 6.3 Primary Keys and Foreign Keys\n",
    "- A primary key is a column or a group of columns used to identify a row uniquely in a table.\n",
    "- For example, in our dvdrental database we saw customers had a unique, non-null, customer_id column as their primary key.\n",
    "    - pkey\n",
    "- A foreign key is a field or group of fields in a table that uniquely identifies a row another table.\n",
    "- A foreign key is defined in table that references to the primary key of the other table.\n",
    "    - fkey\n",
    "- The table that contains the foreign key is called referencing table or child table.\n",
    "- The table to which the foreign key references is called referenced table or parent table.\n",
    "- A table can have multiple foreign keys depending on its relationships with other tables.\n",
    "- Primary and Foreign keys typicall make good column choices for joining together two or more tables.\n",
    "- When creating tables and defining columns, we can use constraints to define columns as being a primary key or attaching a foreign key relationship to another table."
   ]
  },
  {
   "cell_type": "markdown",
   "metadata": {},
   "source": [
    "### 6.4 Constraints\n",
    "- Rules enforced on data columns on table\n",
    "- Used to prevent invalid data from being entered into the database.\n",
    "- Ensures the accuracy and reliability of the data in the database.\n",
    "- Can be divided into two main categories:\n",
    "    - Column Constraints\n",
    "        - Constrain the data in a column to adhere to a certain conditions\n",
    "    - Table Constraints\n",
    "        - applied to the entire table rather than to an individual column.\n",
    "- The most common constraints used are:\n",
    "    1. NOT NULL Constraints:\n",
    "        - Ensures that a column cannot have NULL value\n",
    "    2. UNIQUE Constraint:\n",
    "        - Ensure that all values in a column are different.\n",
    "        "
   ]
  },
  {
   "cell_type": "code",
   "execution_count": 2,
   "metadata": {},
   "outputs": [],
   "source": [
    "### 6.5 CREATE Table"
   ]
  },
  {
   "cell_type": "code",
   "execution_count": null,
   "metadata": {},
   "outputs": [],
   "source": [
    "### 6.6 INSERT"
   ]
  },
  {
   "cell_type": "code",
   "execution_count": null,
   "metadata": {},
   "outputs": [],
   "source": [
    "### 6.6 UPDATE"
   ]
  },
  {
   "cell_type": "code",
   "execution_count": null,
   "metadata": {},
   "outputs": [],
   "source": [
    "### 6.6 UPDATE"
   ]
  },
  {
   "cell_type": "code",
   "execution_count": null,
   "metadata": {},
   "outputs": [],
   "source": [
    "\n",
    "6min\n",
    "\n",
    "61. \n",
    "9min\n",
    "\n",
    "62. \n",
    "5min\n",
    "\n",
    "63. \n",
    "18min\n",
    "\n",
    "64. \n",
    "9min\n",
    "\n",
    "65. \n",
    "8min\n",
    "\n",
    "66. DELETE\n",
    "3min\n",
    "\n",
    "67. ALTER Table\n",
    "7min\n",
    "\n",
    "68. DROP Table\n",
    "3min\n",
    "\n",
    "69. CHECK Constraint\n"
   ]
  }
 ],
 "metadata": {
  "kernelspec": {
   "display_name": "Python 3",
   "language": "python",
   "name": "python3"
  },
  "language_info": {
   "codemirror_mode": {
    "name": "ipython",
    "version": 3
   },
   "file_extension": ".py",
   "mimetype": "text/x-python",
   "name": "python",
   "nbconvert_exporter": "python",
   "pygments_lexer": "ipython3",
   "version": "3.7.4"
  }
 },
 "nbformat": 4,
 "nbformat_minor": 4
}
