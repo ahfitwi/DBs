{
 "cells": [
  {
   "cell_type": "markdown",
   "metadata": {},
   "source": [
    "### Compiled by :\n",
    "      Alem H Fitwi, \n",
    "      PhD Student, ECE (Privacy, ML/DNN, & Chaotic Encryption)\n",
    "      GA-Data Analystics Specialist,\n",
    "      Binghamton University-State University of New York\n",
    "      Since August, 2017 "
   ]
  },
  {
   "cell_type": "markdown",
   "metadata": {},
   "source": [
    "# <font color = 'green'>Complete SQL Bootcamp</font>"
   ]
  },
  {
   "cell_type": "markdown",
   "metadata": {},
   "source": [
    "# <font color = 'green'>Section 3: GROUP BY Statements</font>"
   ]
  },
  {
   "cell_type": "markdown",
   "metadata": {},
   "source": [
    "### 3.1 Introduction to GROUP BY"
   ]
  },
  {
   "cell_type": "markdown",
   "metadata": {},
   "source": [
    "- GROUPBY will allow us to aggregate data and apply functions to better understand how data is distributed per category."
   ]
  },
  {
   "cell_type": "markdown",
   "metadata": {},
   "source": [
    "### 3.2 Aggregation Functions"
   ]
  },
  {
   "cell_type": "markdown",
   "metadata": {},
   "source": [
    "- SQL provides a variety of aggregate functions. and PostGreSQL is no exception.\n",
    "- The main ide behind aggregate function is to take multiple inputs and return a single output.\n",
    "- The most common aggregate functions are:\n",
    "    - AVG(): returns the average value\n",
    "    - COUNT(): returns number of values\n",
    "    - MAX(): returns maximum value\n",
    "    - MIN(): returns minimum value\n",
    "    - SUM(): returns the sum of all values\n",
    "- Aggregate function calls happen only in the SELECT clause or the HAVING clause.\n",
    "- Special Notes:\n",
    "    - AVG() retursn a floating point value many decimal places (e.g. 2.342418 ...)\n",
    "        - You can use ROUND() to specify precision after the decimal.        \n",
    "    - COUNT() simply returns the number of rows, which means by convention we just use COUNT(*)\n",
    "- Example Queries:\n",
    "\n",
    "        SELECT MIN(replacement_cost) FROM film;\n",
    "        SELECT MAX(replacement_cost) FROM film;\n",
    "        SELECT MIN(replacement_cost), MAX(replacement_cost) FROM film;\n",
    "        SELECT ROUND(AVG(replacement_cost), 2) FROM film;\n",
    "        SELECT ROUND(SUM(replacement_cost), 2) FROM film;"
   ]
  },
  {
   "cell_type": "markdown",
   "metadata": {},
   "source": [
    "### 3.3 GROUP BY "
   ]
  },
  {
   "cell_type": "markdown",
   "metadata": {},
   "source": [
    "- GROUP BY allows us to aggregate columns per some category\n",
    "- Let's explore this idea with a simple example.\n",
    "    - We need to choose a categorical column to GROUP BY\n",
    "    - Categorical columns are non-continuous\n",
    "    - Keep in mind, they can still be numerical, such as cabin class categorical on a ship (e.g. CLass1, CLass 2, Class 3)\n",
    "    - Syntax:\n",
    "        \n",
    "            SELECT category_col\n",
    "            FROM table\n",
    "            GROUP BY category_col\n",
    "            \n",
    "            SELECT category_col\n",
    "            FROM table\n",
    "            WHERE category_col != 'A'\n",
    "            GROUP BY category_col;\n",
    "    - The GROUP BY clause must appear right after a FROM or WHERE statement.\n",
    "    \n",
    "            SELECT category_col, AGG(data_col)\n",
    "            FROM table\n",
    "            GROUP BY category_col\n",
    "    - In the SELECT statement, columns must either have an aggregate function or be in the GROUP BY call.\n",
    "    \n",
    "            SELECT company, division, SUM(sales)\n",
    "            FROM table\n",
    "            GROUP BY  company, division;\n",
    "            \n",
    "- Practice Examples:\n",
    "            \n",
    "             SELECT customer_id FROM payment\n",
    "             GROUP BY customer_id\n",
    "             ORDER BY customer_id;\n",
    "             \n",
    "             SELECT customer_id, SUM(amount) FROM payment\n",
    "                 GROUP BY customer_id\n",
    "             ORDER BY SUM(amount) DESC;\n",
    "             \n",
    "              SELECT customer_id, COUNT(amount) FROM payment\n",
    "              GROUP BY customer_id\n",
    "              ORDER BY COUNT(amount) DESC;\n",
    "              \n",
    "               SELECT customer_id, staff_id, SUM(amount) FROM payment\n",
    "               GROUP BY staff_id, customer_id\n",
    "               ORDER BY customer_id;\n",
    "     - By date, remove the timestamp\n",
    "    \n",
    "            SELECT DATE(payment_date), SUM(amount) FROM payment\n",
    "            GROUP BY DATE(payment_date)\n",
    "            ORDER BY SUM(amount)  DESC;"
   ]
  },
  {
   "cell_type": "markdown",
   "metadata": {},
   "source": [
    "### Challenge\n",
    "- Challenge\n",
    "- Expected Result\n",
    "- Hints\n",
    "- Solutions"
   ]
  },
  {
   "cell_type": "markdown",
   "metadata": {},
   "source": [
    "1. We have two staff members, with Staff IDS 1 and 2. We want to give a bonus to the staff member that handled the most payments. (Most in terms of number of payments processed, not total dollar amount). How many payments did each staff member handle and who gets the bonus?\n",
    "\n",
    "        SELECT staff_id, COUNT(amount) \n",
    "        FROM payment\n",
    "        WHERE staff_id IN (1, 2)\n",
    "        GROUP BY staff_id\n",
    "        ORDER BY COUNT(amount) DESC;\n",
    "2. Corporate HQ is conducting a study on the relationship between replacement cost and a movie MPAA rating (e.g. G, PG, R, etc ...). What is the average repalcement cost per MPAA rating?\n",
    "    - Note: You may need to expand the AVG column to view correct results.\n",
    "    \n",
    "            SELECT rating, AVG(replacement_cost) \n",
    "            FROM film            \n",
    "            GROUP BY rating\n",
    "            ORDER BY AVG(replacement_cost) DESC;\n",
    "3. We are running a promotion to reward our top 5 customers with coupons. What are the customer ids of the top 5 customers by total spend?\n",
    "\n",
    "            SELECT customer_id, SUM(amount) \n",
    "            FROM payment\n",
    "            GROUP BY customer_id\n",
    "            ORDER BY SUM(amount) DESC\n",
    "            LIMIT 5;"
   ]
  },
  {
   "cell_type": "markdown",
   "metadata": {},
   "source": [
    "### 3.4 HAVING"
   ]
  },
  {
   "cell_type": "markdown",
   "metadata": {},
   "source": [
    "- The HAVING clause allows us to filter after an aggregation has already taken place'\n",
    "- Let's take a look back at one of our previous examples.\n",
    "\n",
    "        SELECT company, SUM(sales)\n",
    "        FROM finance_table\n",
    "        WHERE company != 'GOOGLE'\n",
    "        Group BY company;\n",
    "- We've already seen we can filter before executing the GROUP BY, but what if we want to filter based on SUM(sales)?\n",
    "- We cannot use WHERE to filter based on aggregate results, because those happen after a WHERE is executed.\n",
    "\n",
    "        SELECT company, SUM(sales)\n",
    "        FROM finance_table\n",
    "        WHERE company != 'GOOGLE'\n",
    "        Group BY company\n",
    "        HAVING SUM(sales)> 100;\n",
    "- Having allows us to use the aggregate result as a filter along with a GROUP BY.\n",
    "\n",
    "        SELECT customer_id, SUM(amount) \n",
    "        FROM payment\n",
    "        WHERE customer_id NOT IN (184, 87, 477)\n",
    "        GROUP BY customer_id\n",
    "        HAVING SUM(amount) >200;\n",
    "        \n",
    "        SELECT store_id, COUNT(*) \n",
    "        FROM customer\n",
    "        GROUP BY store_id\n",
    "        HAVING COUNT(*) >300;\n"
   ]
  },
  {
   "cell_type": "markdown",
   "metadata": {},
   "source": [
    "###  Challenge Tasks"
   ]
  },
  {
   "cell_type": "markdown",
   "metadata": {},
   "source": [
    "1. We are launching a platinum service for our loyal customers. We will assign platinum status to customers that have had 40 or more transaction payments. What customer_ids are eligible for platinum status?\n",
    "\n",
    "        SELECT customer_id, COUNT(amount)\n",
    "        FROM payment\n",
    "        GROUP BY customer_id\n",
    "        HAVING COUNT(amount) >= 40;\n",
    "        \n",
    "        SELECT customer_id, COUNT(amount)\n",
    "        FROM payment\n",
    "        GROUP BY customer_id\n",
    "        HAVING COUNT(amount) >= 40\n",
    "        ORDER BY COUNT(amount) DESC;\n",
    "2. What are the customer IDS of customers who have spent more than $100 in payment transactions with our staff_id member 2?\n",
    "\n",
    "        SELECT customer_id\n",
    "        FROM payment\n",
    "        WHERE staff_id = 2\n",
    "        GROUP BY customer_id\n",
    "        HAVING SUM(amount) > 100\n",
    "        ORDER BY SUM(amount) DESC;\n",
    "\n",
    "### Assessment\n",
    "1. Return the customer IDs of customers who have spent at least $110 with the staff member who has an ID of 2. The answer should be customers 187 and 148.\n",
    "\n",
    "        SELECT customer_id\n",
    "        FROM payment\n",
    "        WHERE staff_id = 2\n",
    "        GROUP BY customer_id\n",
    "        HAVING SUM(amount) >= 110\n",
    "        ORDER BY SUM(amount) DESC;\n",
    "\n",
    "\n",
    "2. How many films begin with the letter J? The answer should be 20.\n",
    "\n",
    "        SELECT COUNT(title)\n",
    "        FROM film\n",
    "        WHERE title LIKE 'J%'\n",
    "        \n",
    "3. What customer has the highest customer ID number whose name starts with an 'E' and has an address ID lower than 500? The answer is Eddie Tomlin\n",
    "\n",
    "        SELECT Fname, Lname \n",
    "        FROM customer\n",
    "        WHERE Fname LIKE 'E%' AND address_id < 500\n",
    "        ORDER BY cutomer_id DESC\n",
    "        LIMIT 1;"
   ]
  },
  {
   "cell_type": "markdown",
   "metadata": {},
   "source": [
    "                                            ~END~"
   ]
  }
 ],
 "metadata": {
  "kernelspec": {
   "display_name": "Python 3",
   "language": "python",
   "name": "python3"
  },
  "language_info": {
   "codemirror_mode": {
    "name": "ipython",
    "version": 3
   },
   "file_extension": ".py",
   "mimetype": "text/x-python",
   "name": "python",
   "nbconvert_exporter": "python",
   "pygments_lexer": "ipython3",
   "version": "3.7.4"
  }
 },
 "nbformat": 4,
 "nbformat_minor": 4
}
