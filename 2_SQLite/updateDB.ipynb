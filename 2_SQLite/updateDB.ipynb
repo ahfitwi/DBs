{
 "cells": [
  {
   "cell_type": "code",
   "execution_count": null,
   "metadata": {},
   "outputs": [],
   "source": []
  },
  {
   "cell_type": "markdown",
   "metadata": {},
   "source": [
    "https://www.tutorialspoint.com/python/python_database_access.htm"
   ]
  },
  {
   "cell_type": "code",
   "execution_count": null,
   "metadata": {},
   "outputs": [],
   "source": []
  },
  {
   "cell_type": "code",
   "execution_count": 1,
   "metadata": {},
   "outputs": [],
   "source": [
    "import sqlite3\n",
    "from sqlalchemy import create_engine\n",
    "import pandas as pd\n",
    "import glob"
   ]
  },
  {
   "cell_type": "code",
   "execution_count": 2,
   "metadata": {},
   "outputs": [],
   "source": [
    "# Replace spaces with underscore\n",
    "def replacespace(col):\n",
    "    return [col.replace(' ', '_') for col in col]"
   ]
  },
  {
   "cell_type": "code",
   "execution_count": 3,
   "metadata": {},
   "outputs": [],
   "source": [
    "def replacespacer(col):\n",
    "    tmp = [col.replace(' ', '_') for col in col]\n",
    "    tmp = [col.strip(':') for col in tmp]\n",
    "    tmp = [col.strip('?') for col in tmp]\n",
    "    tmp = [col.replace('/', '_') for col in tmp]\n",
    "    return tmp"
   ]
  },
  {
   "cell_type": "markdown",
   "metadata": {},
   "source": [
    "# Update Tables"
   ]
  },
  {
   "cell_type": "code",
   "execution_count": 9,
   "metadata": {},
   "outputs": [],
   "source": [
    "allCourses_columns = ['course_name', 'acronym', 'cost_model']"
   ]
  },
  {
   "cell_type": "code",
   "execution_count": 74,
   "metadata": {},
   "outputs": [],
   "source": [
    "def updateCourselistTable(course_name, acronym, cost_model):\n",
    "    msg = ''\n",
    "    try:\n",
    "        con = sqlite3.connect(dbpath)\n",
    "        cursor = con.cursor()        \n",
    "        gl1 = \"\"\"Update course_list set course_name = ?, cost_model = ? \"\"\"\n",
    "        gl2 = \"\"\"where acronym = ?\"\"\"\n",
    "        sqlite_update_query = gl1+gl2        \n",
    "        columnValues = (course_name, cost_model, acronym)\n",
    "        con.commit()\n",
    "        msg = \"Course_List updated successfully!\"       \n",
    "        cursor.close()\n",
    "\n",
    "    except sqlite3.Error as error:\n",
    "        msg = f\"Course_List update failed due to {error}.\"\n",
    "    finally:\n",
    "        if con:\n",
    "            con.close()\n",
    "    return msg"
   ]
  },
  {
   "cell_type": "code",
   "execution_count": 11,
   "metadata": {},
   "outputs": [
    {
     "data": {
      "text/plain": [
       "28"
      ]
     },
     "execution_count": 11,
     "metadata": {},
     "output_type": "execute_result"
    }
   ],
   "source": [
    "registrant_columns = ['course_id','course_abb','mmyyyy','course_type',\n",
    "                      'First Name:','Last Name:','Email Address:','Address 1:',\n",
    "                      'City:','State:', 'Education Level:', 'Country:',\n",
    "                      'ZIP Code:','Phone:','Company/School:', 'Job Title:',\n",
    "                      'Department:','How did you hear about this course?',\n",
    "                      'Registration Date','Registration Status',\n",
    "                      'Payment Status','Payment Type','Fee Type', 'Promo Code',\n",
    "                      'Code Type', 'Discount Percent','Discount Amount',\n",
    "                      'Total Price']\n",
    "len(registrant_columns) "
   ]
  },
  {
   "cell_type": "code",
   "execution_count": null,
   "metadata": {},
   "outputs": [],
   "source": []
  },
  {
   "cell_type": "code",
   "execution_count": 12,
   "metadata": {},
   "outputs": [
    {
     "data": {
      "text/plain": [
       "['course_id',\n",
       " 'course_abb',\n",
       " 'mmyyyy',\n",
       " 'course_type',\n",
       " 'First_Name',\n",
       " 'Last_Name',\n",
       " 'Email_Address',\n",
       " 'Address_1',\n",
       " 'City',\n",
       " 'State',\n",
       " 'Education_Level',\n",
       " 'Country',\n",
       " 'ZIP_Code',\n",
       " 'Phone',\n",
       " 'Company_School',\n",
       " 'Job_Title',\n",
       " 'Department',\n",
       " 'How_did_you_hear_about_this_course',\n",
       " 'Registration_Date',\n",
       " 'Registration_Status',\n",
       " 'Payment_Status',\n",
       " 'Payment_Type',\n",
       " 'Fee_Type',\n",
       " 'Promo_Code',\n",
       " 'Code_Type',\n",
       " 'Discount_Percent',\n",
       " 'Discount_Amount',\n",
       " 'Total_Price']"
      ]
     },
     "execution_count": 12,
     "metadata": {},
     "output_type": "execute_result"
    }
   ],
   "source": [
    "replacespacer(registrant_columns)"
   ]
  },
  {
   "cell_type": "code",
   "execution_count": 75,
   "metadata": {},
   "outputs": [
    {
     "data": {
      "text/plain": [
       "'Update registrants set course_abb= ?, mmyyyy= ?, course_type= ?, First_Name= ?, Last_Name= ?, Email_Address= ?, Address_1= ?, City= ?, State= ?, Education_Level= ?, Country= ?, ZIP_Code= ?,Phone= ?, Company_School= ?, Job_Title= ?, Department= ?, How_did_you_hear_about_this_course= ?, Registration_Date= ?,Registration_Status= ?, Payment_Status= ?, Payment_Type= ?,Fee_Type= ?, Promo_Code= ?, Code_Type= ?, Discount_Percent= ?, Discount_Amount= ?, Total_Price= ? where course_id= ? '"
      ]
     },
     "execution_count": 75,
     "metadata": {},
     "output_type": "execute_result"
    }
   ],
   "source": [
    "reg1 = \"\"\"Update registrants set course_abb= ?, mmyyyy= ?, \"\"\"\n",
    "reg2 = \"\"\"course_type= ?, First_Name= ?, Last_Name= ?, Email_Address= ?, \"\"\" \n",
    "reg3 = \"\"\"Address_1= ?, City= ?, State= ?, Education_Level= ?, Country= ?, \"\"\" \n",
    "reg4 = \"\"\"ZIP_Code= ?,Phone= ?, Company_School= ?, Job_Title= ?, \"\"\" \n",
    "reg5 = \"\"\"Department= ?, How_did_you_hear_about_this_course= ?, \"\"\" \n",
    "reg6 = \"\"\"Registration_Date= ?,Registration_Status= ?, Payment_Status= ?, \"\"\" \n",
    "reg7 = \"\"\"Payment_Type= ?,Fee_Type= ?, Promo_Code= ?, Code_Type= ?, \"\"\" \n",
    "reg8 = \"\"\"Discount_Percent= ?, Discount_Amount= ?, Total_Price= ? \"\"\"\n",
    "reg9 = \"\"\"where course_id= ? \"\"\"\n",
    "sqlite_update_query = reg1+reg2+reg3+reg4+reg5+reg6+reg7+reg8+reg9\n",
    "sqlite_update_query"
   ]
  },
  {
   "cell_type": "code",
   "execution_count": 76,
   "metadata": {},
   "outputs": [],
   "source": [
    "def updateRegistrantsTable(course_id, course_abb, mmyyyy, course_type,\n",
    "                            First_Name, Last_Name, Email_Address, Address_1,\n",
    "                            City, State, Education_Level, Country, ZIP_Code,\n",
    "                            Phone, Company_School, Job_Title, Department,\n",
    "                            How_did_you_hear_about_this_course, Registration_Date,\n",
    "                            Registration_Status, Payment_Status, Payment_Type,\n",
    "                            Fee_Type, Promo_Code, Code_Type, Discount_Percent,\n",
    "                            Discount_Amount, Total_Price):\n",
    "    msg = ''\n",
    "    try:\n",
    "        con = sqlite3.connect(dbpath)\n",
    "        cursor = con.cursor()        \n",
    "        reg1 = \"\"\"Update registrants set course_abb= ?, mmyyyy= ?, \"\"\"\n",
    "        reg2 = \"\"\"course_type= ?, First_Name= ?, Last_Name= ?, Email_Address= ?, \"\"\" \n",
    "        reg3 = \"\"\"Address_1= ?, City= ?, State= ?, Education_Level= ?, Country= ?, \"\"\" \n",
    "        reg4 = \"\"\"ZIP_Code= ?,Phone= ?, Company_School= ?, Job_Title= ?, \"\"\" \n",
    "        reg5 = \"\"\"Department= ?, How_did_you_hear_about_this_course= ?, \"\"\" \n",
    "        reg6 = \"\"\"Registration_Date= ?,Registration_Status= ?, Payment_Status= ?, \"\"\" \n",
    "        reg7 = \"\"\"Payment_Type= ?,Fee_Type= ?, Promo_Code= ?, Code_Type= ?, \"\"\" \n",
    "        reg8 = \"\"\"Discount_Percent= ?, Discount_Amount= ?, Total_Price= ? \"\"\"\n",
    "        reg9 = \"\"\"where course_id= ? \"\"\"\n",
    "        sqlite_update_query = reg1+reg2+reg3+reg4+reg5+reg6+reg7+reg8+reg9      \n",
    "        columnValues = (course_abb, mmyyyy, course_type,\n",
    "                            First_Name, Last_Name, Email_Address, Address_1,\n",
    "                            City, State, Education_Level, Country, ZIP_Code,\n",
    "                            Phone, Company_School, Job_Title, Department,\n",
    "                            How_did_you_hear_about_this_course, Registration_Date,\n",
    "                            Registration_Status, Payment_Status, Payment_Type,\n",
    "                            Fee_Type, Promo_Code, Code_Type, Discount_Percent,\n",
    "                            Discount_Amount, Total_Price, course_id)\n",
    "        cursor.execute(sqlite_update_query, columnValues)        \n",
    "        msg = \"Registrants_Table was updated successfully!\"\n",
    "        con.commit()\n",
    "        cursor.close()\n",
    "\n",
    "    except sqlite3.Error as error:\n",
    "        msg = f\"Registrants_Table update failed due to {error}.\"\n",
    "    finally:\n",
    "        if con:\n",
    "            con.close()\n",
    "    return msg"
   ]
  },
  {
   "cell_type": "code",
   "execution_count": 14,
   "metadata": {},
   "outputs": [],
   "source": [
    "grade_columns = ['course_id','course_abb','mmyyyy','course_type','Last Name',\n",
    "                 'First Name', 'Username', 'Student ID','Last Access',\n",
    "                 'Availability', 'Final Exam', 'Final Grade'] "
   ]
  },
  {
   "cell_type": "code",
   "execution_count": 15,
   "metadata": {},
   "outputs": [],
   "source": [
    "def updateGradeTable(course_id,course_abb,mmyyyy,course_type,Last_Name,\n",
    "                 First_Name,Username, Student_ID,Last_Access,\n",
    "                 Availability, Final_Exam, Final_Grade):\n",
    "    msg = ''\n",
    "    try:\n",
    "        con = sqlite3.connect(dbpath)\n",
    "        cursor = con.cursor()        \n",
    "        gl1 = f\"\"\"Update grade_report set course_abb = ?,mmyyyy= ?, \"\"\"\n",
    "        gl2 = \"\"\"course_type = ?, Last_Name = ?, First_Name = ?, \"\"\"\n",
    "        gl3 = \"\"\"Username = ?, Student_ID = ?, Last_Access = ?, \"\"\"\n",
    "        gl4 = \"\"\"Availability = ?, Final_Exam = ?, Final_Grade = ? \"\"\"\n",
    "        gl5 = \"\"\"where course_id = ?\"\"\"\n",
    "        sqlite_update_query = gl1+gl2+gl3+gl4+gl5\n",
    "        \n",
    "        columnValues = (course_abb,mmyyyy,course_type,Last_Name,\n",
    "                 First_Name,Username, Student_ID,Last_Access,\n",
    "                 Availability, Final_Exam, Final_Grade, course_id)\n",
    "        cursor.execute(sqlite_update_query, columnValues)        \n",
    "        msg = \"Grade_Table was updated successfully!\"\n",
    "        con.commit()\n",
    "        cursor.close()\n",
    "\n",
    "    except sqlite3.Error as error:\n",
    "        msg = f\"Grade_Table update failed due to {error}.\"\n",
    "    finally:\n",
    "        if con:\n",
    "            con.close()\n",
    "    return msg"
   ]
  },
  {
   "cell_type": "code",
   "execution_count": 16,
   "metadata": {},
   "outputs": [],
   "source": [
    "cost_columns = ['course_id','course_abb','mmyyyy','course_type','Name','Role',\n",
    "                'Pay','Type','Location'] "
   ]
  },
  {
   "cell_type": "code",
   "execution_count": 17,
   "metadata": {},
   "outputs": [],
   "source": [
    "def updateCostTable(course_id, course_abb, mmyyyy, course_type,\n",
    "                    Name, Role, Pay, Type, Location):\n",
    "    msg = ''\n",
    "    try:\n",
    "        con = sqlite3.connect(dbpath)\n",
    "        cursor = con.cursor()        \n",
    "        gl1 = f\"\"\"Update cost_model set course_abb = ?,mmyyyy= ?, \"\"\"\n",
    "        gl2 = \"\"\"course_type = ?, Name = ?, Role = ?, \"\"\"\n",
    "        gl3 = \"\"\"Pay = ?, Type = ?, Location = ? \"\"\"        \n",
    "        gl4 = \"\"\"where course_id = ?\"\"\"\n",
    "        sqlite_update_query = gl1+gl2+gl3+gl4\n",
    "        \n",
    "        columnValues = (course_abb, mmyyyy, course_type,\n",
    "                        Name, Role, Pay, Type, Location, course_id)\n",
    "        cursor.execute(sqlite_update_query, columnValues)\n",
    "        con.commit()\n",
    "        msg = \"Cost_Table was updated successfully!\"\n",
    "        con.commit()\n",
    "        cursor.close()\n",
    "\n",
    "    except sqlite3.Error as error:\n",
    "        msg = f\"Grade_Table update failed due to {error}.\"\n",
    "    finally:\n",
    "        if con:\n",
    "            con.close()\n",
    "    return msg "
   ]
  },
  {
   "cell_type": "code",
   "execution_count": 18,
   "metadata": {},
   "outputs": [],
   "source": [
    "demog_columns = ['course_id', 'course_abb','mmyyyy', 'course_type', 'object',\n",
    "                 'by', 'count']"
   ]
  },
  {
   "cell_type": "code",
   "execution_count": 19,
   "metadata": {},
   "outputs": [],
   "source": [
    "def updateDemographyTable(course_id, course_abb, mmyyyy, course_type,\n",
    "                                                  object, by, count):\n",
    "    msg = ''\n",
    "    try: \n",
    "        con = sqlite3.connect(dbpath)\n",
    "        cursor = con.cursor()        \n",
    "        gl1 = f\"\"\"Update demography set course_abb = ?, mmyyyy= ?, \"\"\"\n",
    "        gl2 = \"\"\"course_type = ?, object = ?, by = ?, \"\"\"\n",
    "        gl3 = \"\"\"count = ? where course_id = ? \"\"\"         \n",
    "        sqlite_update_query = gl1+gl2+gl3        \n",
    "        columnValues = (course_abb, mmyyyy, course_type,\n",
    "                            object, by, count, course_id)\n",
    "        cursor.execute(sqlite_update_query, columnValues)        \n",
    "        msg = \"Demography_Table was updated successfully!\"\n",
    "        con.commit()\n",
    "        cursor.close()\n",
    "\n",
    "    except sqlite3.Error as error:\n",
    "        msg = f\"Demography_Table update failed due to {error}.\"\n",
    "    finally:\n",
    "        if con:\n",
    "            con.close()\n",
    "    return msg"
   ]
  },
  {
   "cell_type": "code",
   "execution_count": 20,
   "metadata": {},
   "outputs": [],
   "source": [
    "# The same\n",
    "sur_columns = ['course_id','course_abb','mmyyyy','course_type','questions',\n",
    "               'opinion','scores','count']"
   ]
  },
  {
   "cell_type": "code",
   "execution_count": 21,
   "metadata": {},
   "outputs": [],
   "source": [
    "def updateSurveysTable(course_id, course_abb, mmyyyy, course_type,\n",
    "                                questions, opinion, scores, count):\n",
    "    msg = ''\n",
    "    try:\n",
    "        con = sqlite3.connect(dbpath)\n",
    "        cursor = con.cursor()        \n",
    "        gl1 = f\"\"\"Update surveys set course_abb = ?, mmyyyy= ?, \"\"\"\n",
    "        gl2 = \"\"\"course_type = ?, questions = ?,  opinion = ?, \"\"\"\n",
    "        gl3 = \"\"\"scores = ?, count = ? where course_id = ? \"\"\"         \n",
    "        sqlite_update_query = gl1+gl2+gl3       \n",
    "        columnValues = (course_abb, mmyyyy, course_type,\n",
    "                        questions, opinion, scores, count, course_id)\n",
    "        cursor.execute(sqlite_update_query, columnValues)  \n",
    "        msg = \"Surveys_Table was updated successfully!\"\n",
    "        con.commit()\n",
    "        cursor.close()\n",
    "\n",
    "    except sqlite3.Error as error:\n",
    "        msg = f\"Surveys_Table update failed due to {error}.\"\n",
    "    finally:\n",
    "        if con:\n",
    "            con.close()\n",
    "    return msg"
   ]
  },
  {
   "cell_type": "markdown",
   "metadata": {},
   "source": [
    "# Grab Tables"
   ]
  },
  {
   "cell_type": "code",
   "execution_count": 102,
   "metadata": {},
   "outputs": [],
   "source": [
    "def check_tables(dbpath):\n",
    "    msg = ''\n",
    "    try:\n",
    "        con = sqlite3.connect(dbpath)\n",
    "        cursor = con.cursor()\n",
    "        cursor.execute(\"SELECT name FROM sqlite_master WHERE type='table';\")\n",
    "        tab = cursor.fetchall()\n",
    "        table_list = []\n",
    "        for t in list(tab):\n",
    "            table_list.append(t[0])\n",
    "        msg = \"Tables grabbed successfully!\"\n",
    "    except sqlite3.Error as error:\n",
    "        msg = f\"Grade_Table update failed due to {error}.\"\n",
    "    finally:\n",
    "        if con:\n",
    "            con.close()\n",
    "    return table_list, msg\n"
   ]
  },
  {
   "cell_type": "code",
   "execution_count": 125,
   "metadata": {},
   "outputs": [
    {
     "data": {
      "text/plain": [
       "['course_list',\n",
       " 'registrants',\n",
       " 'grade_report',\n",
       " 'demography',\n",
       " 'surveys',\n",
       " 'cost_model']"
      ]
     },
     "execution_count": 125,
     "metadata": {},
     "output_type": "execute_result"
    }
   ],
   "source": [
    "tt = \"/home/alem/Desktop/dash/py_and_db/DashProjDB.db\"\n",
    "table_list, msg = check_tables(tt)\n",
    "table_list"
   ]
  },
  {
   "cell_type": "code",
   "execution_count": 112,
   "metadata": {},
   "outputs": [
    {
     "data": {
      "text/html": [
       "<div>\n",
       "<style scoped>\n",
       "    .dataframe tbody tr th:only-of-type {\n",
       "        vertical-align: middle;\n",
       "    }\n",
       "\n",
       "    .dataframe tbody tr th {\n",
       "        vertical-align: top;\n",
       "    }\n",
       "\n",
       "    .dataframe thead th {\n",
       "        text-align: right;\n",
       "    }\n",
       "</style>\n",
       "<table border=\"1\" class=\"dataframe\">\n",
       "  <thead>\n",
       "    <tr style=\"text-align: right;\">\n",
       "      <th></th>\n",
       "      <th>course_id</th>\n",
       "      <th>course_abb</th>\n",
       "      <th>mmyyyy</th>\n",
       "      <th>course_type</th>\n",
       "      <th>First Name:</th>\n",
       "      <th>Last Name:</th>\n",
       "      <th>Email Address:</th>\n",
       "      <th>Address 1:</th>\n",
       "      <th>City:</th>\n",
       "      <th>State:</th>\n",
       "      <th>...</th>\n",
       "      <th>Registration Date</th>\n",
       "      <th>Registration Status</th>\n",
       "      <th>Payment Status</th>\n",
       "      <th>Payment Type</th>\n",
       "      <th>Fee Type</th>\n",
       "      <th>Promo Code</th>\n",
       "      <th>Code Type</th>\n",
       "      <th>Discount Percent</th>\n",
       "      <th>Discount Amount</th>\n",
       "      <th>Total Price</th>\n",
       "    </tr>\n",
       "  </thead>\n",
       "  <tbody>\n",
       "    <tr>\n",
       "      <td>0</td>\n",
       "      <td>AA_2020_09_09</td>\n",
       "      <td>AA</td>\n",
       "      <td>09/09/2020</td>\n",
       "      <td>public</td>\n",
       "      <td>Caleb</td>\n",
       "      <td>Qi</td>\n",
       "      <td>cqi2@binghamton.edu</td>\n",
       "      <td>55 Fairview Avenue</td>\n",
       "      <td>Great Neck</td>\n",
       "      <td>New York</td>\n",
       "      <td>...</td>\n",
       "      <td>09/09/2020 10:24:26 AM EDT</td>\n",
       "      <td>Registered</td>\n",
       "      <td>Paid</td>\n",
       "      <td>PayPal</td>\n",
       "      <td>BU Students/SUNY Students (must be matriculate...</td>\n",
       "      <td>None</td>\n",
       "      <td>None</td>\n",
       "      <td>NaN</td>\n",
       "      <td>None</td>\n",
       "      <td>95.0</td>\n",
       "    </tr>\n",
       "    <tr>\n",
       "      <td>1</td>\n",
       "      <td>AA_2020_09_09</td>\n",
       "      <td>AA</td>\n",
       "      <td>09/09/2020</td>\n",
       "      <td>public</td>\n",
       "      <td>Jack</td>\n",
       "      <td>Fischer</td>\n",
       "      <td>jfische8@binghamton.edu</td>\n",
       "      <td>29 Tamarack Pl</td>\n",
       "      <td>Briarcliff Manor</td>\n",
       "      <td>New York</td>\n",
       "      <td>...</td>\n",
       "      <td>07/20/2020 10:01:00 PM EDT</td>\n",
       "      <td>Registered</td>\n",
       "      <td>Paid</td>\n",
       "      <td>PayPal</td>\n",
       "      <td>BU faculty/staff/alumni graduated Dec. 2019 or...</td>\n",
       "      <td>None</td>\n",
       "      <td>None</td>\n",
       "      <td>NaN</td>\n",
       "      <td>None</td>\n",
       "      <td>150.0</td>\n",
       "    </tr>\n",
       "  </tbody>\n",
       "</table>\n",
       "<p>2 rows × 28 columns</p>\n",
       "</div>"
      ],
      "text/plain": [
       "       course_id course_abb      mmyyyy course_type First Name: Last Name:  \\\n",
       "0  AA_2020_09_09         AA  09/09/2020      public       Caleb         Qi   \n",
       "1  AA_2020_09_09         AA  09/09/2020      public        Jack    Fischer   \n",
       "\n",
       "            Email Address:          Address 1:             City:    State:  \\\n",
       "0      cqi2@binghamton.edu  55 Fairview Avenue        Great Neck  New York   \n",
       "1  jfische8@binghamton.edu      29 Tamarack Pl  Briarcliff Manor  New York   \n",
       "\n",
       "   ...           Registration Date Registration Status Payment Status  \\\n",
       "0  ...  09/09/2020 10:24:26 AM EDT          Registered           Paid   \n",
       "1  ...  07/20/2020 10:01:00 PM EDT          Registered           Paid   \n",
       "\n",
       "  Payment Type                                           Fee Type Promo Code  \\\n",
       "0       PayPal  BU Students/SUNY Students (must be matriculate...       None   \n",
       "1       PayPal  BU faculty/staff/alumni graduated Dec. 2019 or...       None   \n",
       "\n",
       "  Code Type Discount Percent Discount Amount Total Price  \n",
       "0      None              NaN            None        95.0  \n",
       "1      None              NaN            None       150.0  \n",
       "\n",
       "[2 rows x 28 columns]"
      ]
     },
     "execution_count": 112,
     "metadata": {},
     "output_type": "execute_result"
    }
   ],
   "source": [
    "dbpath = tt\n",
    "qerrydb(dbpath, tbls['reg'], allcols['reg']).head(2)"
   ]
  },
  {
   "cell_type": "code",
   "execution_count": 127,
   "metadata": {},
   "outputs": [
    {
     "data": {
      "text/plain": [
       "['/home/alem/Desktop/dash/DB_Tables/registrants.xlsx',\n",
       " '/home/alem/Desktop/dash/DB_Tables/grade_report.xlsx',\n",
       " '/home/alem/Desktop/dash/DB_Tables/frac_setting.xlsx',\n",
       " '/home/alem/Desktop/dash/DB_Tables/course_list.xlsx',\n",
       " '/home/alem/Desktop/dash/DB_Tables/demography.xlsx',\n",
       " '/home/alem/Desktop/dash/DB_Tables/surveys.xlsx',\n",
       " '/home/alem/Desktop/dash/DB_Tables/cost_model.xlsx']"
      ]
     },
     "execution_count": 127,
     "metadata": {},
     "output_type": "execute_result"
    }
   ],
   "source": [
    "tmpths = glob.glob(\"/home/alem/Desktop/dash/DB_Tables/*.xlsx\")\n",
    "tmpths"
   ]
  },
  {
   "cell_type": "code",
   "execution_count": 129,
   "metadata": {},
   "outputs": [],
   "source": [
    "tt = \"/home/alem/Desktop/dash/py_and_db/DashProjDB.db\"\n",
    "dbpath = tt"
   ]
  },
  {
   "cell_type": "code",
   "execution_count": 130,
   "metadata": {},
   "outputs": [
    {
     "data": {
      "text/plain": [
       "'course_list wasn added to DB!'"
      ]
     },
     "execution_count": 130,
     "metadata": {},
     "output_type": "execute_result"
    }
   ],
   "source": [
    "df = pd.read_excel('/home/alem/Desktop/dash/DB_Tables/course_list.xlsx')\n",
    "tosqlite(df, \"course_list\", dbpath, 'acl')"
   ]
  },
  {
   "cell_type": "code",
   "execution_count": 131,
   "metadata": {},
   "outputs": [
    {
     "data": {
      "text/plain": [
       "'registrants wasn added to DB!'"
      ]
     },
     "execution_count": 131,
     "metadata": {},
     "output_type": "execute_result"
    }
   ],
   "source": [
    "df = pd.read_excel('/home/alem/Desktop/dash/DB_Tables/registrants.xlsx')\n",
    "tosqlite(df, \"registrants\", dbpath, 'reg')"
   ]
  },
  {
   "cell_type": "code",
   "execution_count": 132,
   "metadata": {},
   "outputs": [
    {
     "data": {
      "text/plain": [
       "'grade_report wasn added to DB!'"
      ]
     },
     "execution_count": 132,
     "metadata": {},
     "output_type": "execute_result"
    }
   ],
   "source": [
    "df = pd.read_excel('/home/alem/Desktop/dash/DB_Tables/grade_report.xlsx')\n",
    "tosqlite(df, \"grade_report\", dbpath, 'gra')"
   ]
  },
  {
   "cell_type": "code",
   "execution_count": 133,
   "metadata": {},
   "outputs": [
    {
     "data": {
      "text/plain": [
       "'demography wasn added to DB!'"
      ]
     },
     "execution_count": 133,
     "metadata": {},
     "output_type": "execute_result"
    }
   ],
   "source": [
    "df = pd.read_excel('/home/alem/Desktop/dash/DB_Tables/demography.xlsx')\n",
    "tosqlite(df, \"demography\", dbpath, 'dem')"
   ]
  },
  {
   "cell_type": "code",
   "execution_count": 134,
   "metadata": {},
   "outputs": [
    {
     "data": {
      "text/plain": [
       "'surveys wasn added to DB!'"
      ]
     },
     "execution_count": 134,
     "metadata": {},
     "output_type": "execute_result"
    }
   ],
   "source": [
    "df = pd.read_excel('/home/alem/Desktop/dash/DB_Tables/surveys.xlsx')\n",
    "tosqlite(df, \"surveys\", dbpath, 'svy')"
   ]
  },
  {
   "cell_type": "code",
   "execution_count": 135,
   "metadata": {},
   "outputs": [
    {
     "data": {
      "text/plain": [
       "'cost_model wasn added to DB!'"
      ]
     },
     "execution_count": 135,
     "metadata": {},
     "output_type": "execute_result"
    }
   ],
   "source": [
    "df = pd.read_excel('/home/alem/Desktop/dash/DB_Tables/cost_model.xlsx')\n",
    "tosqlite(df, \"cost_model\", dbpath, 'cml')"
   ]
  },
  {
   "cell_type": "code",
   "execution_count": 136,
   "metadata": {},
   "outputs": [
    {
     "data": {
      "text/plain": [
       "'frac_setting wasn added to DB!'"
      ]
     },
     "execution_count": 136,
     "metadata": {},
     "output_type": "execute_result"
    }
   ],
   "source": [
    "df = pd.read_excel('/home/alem/Desktop/dash/DB_Tables/frac_setting.xlsx')\n",
    "tosqlite(df, \"frac_setting\", dbpath, 'set')"
   ]
  },
  {
   "cell_type": "markdown",
   "metadata": {},
   "source": [
    "# Insert\n",
    "https://pythonexamples.org/python-sqlite3-insert-multiple-rows-to-table/\n",
    "https://pythonexamples.org/python-sqlite3-tutorial/"
   ]
  },
  {
   "cell_type": "code",
   "execution_count": 108,
   "metadata": {},
   "outputs": [
    {
     "data": {
      "text/plain": [
       "'VALUES(?,?,?);'"
      ]
     },
     "execution_count": 108,
     "metadata": {},
     "output_type": "execute_result"
    }
   ],
   "source": [
    "val = 'VALUES('\n",
    "for i in range(3):\n",
    "    val += '?,'\n",
    "val = val.rstrip(',') +');'\n",
    "val"
   ]
  },
  {
   "cell_type": "code",
   "execution_count": 109,
   "metadata": {},
   "outputs": [],
   "source": [
    "def insert_Record(df, tblname, flag, label):\n",
    "    if isinstance(df, bool) == False:\n",
    "    len(df.columns)\n",
    "    try:\n",
    "        con = sqlite3.connect(dbpath)\n",
    "        cursor = con.cursor()\n",
    "        val = 'VALUES('\n",
    "        for i in range(colnum):\n",
    "            val += '?,'\n",
    "        val = val.rstrip(',') +');'\n",
    "        cursor.executemany(f\"INSERT INTO {tblname}\" + val, records);\n",
    "        #commit the changes to db\n",
    "        conn.commit()\n",
    "    except:\n",
    "        return sys.exc_info()[0]\n",
    "    finally:\n",
    "        if conn:\n",
    "            #close the connection\n",
    "            conn.close()\n",
    "    return f\"Records were sucessfully inserted into {tblname} in DB!\""
   ]
  },
  {
   "cell_type": "code",
   "execution_count": 111,
   "metadata": {},
   "outputs": [
    {
     "data": {
      "text/plain": [
       "12"
      ]
     },
     "execution_count": 111,
     "metadata": {},
     "output_type": "execute_result"
    }
   ],
   "source": [
    "df = pd.read_excel('./DB_Tables/grade_report.xlsx')\n",
    "len(df.columns)"
   ]
  },
  {
   "cell_type": "code",
   "execution_count": null,
   "metadata": {},
   "outputs": [],
   "source": [
    "import sqlite3\n",
    "\n",
    "conn = sqlite3.connect('mysqlite.db')\n",
    "c = conn.cursor()\n",
    "\n",
    "#records or rows in a list\n",
    "records = [(1, 'Glen', 8),\n",
    "\t\t\t(2, 'Elliot', 9),\n",
    "\t\t\t(3, 'Bob', 7)]\n",
    "\n",
    "#insert multiple records in a single query\n",
    "c.executemany('INSERT INTO students VALUES(?,?,?);',records);\n",
    "\n",
    "print('We have inserted', c.rowcount, 'records to the table.')\n",
    "\n",
    "#commit the changes to db\t\t\t\n",
    "conn.commit()\n",
    "#close the connection\n",
    "conn.close()"
   ]
  },
  {
   "cell_type": "markdown",
   "metadata": {},
   "source": [
    "# ToSQLite\n",
    "- allCourses_columns registrant_columns grade_columns cost_columns demog_columns  sur_columns\n",
    "- table_names = ['course_list', 'registrants', 'demography','cost_model',\n",
    "            'grade_report', 'surveys','checklist']"
   ]
  },
  {
   "cell_type": "code",
   "execution_count": 30,
   "metadata": {},
   "outputs": [],
   "source": [
    "allcols = {'acl' : allCourses_columns, \n",
    "           'reg' : registrant_columns, \n",
    "           'gra' : grade_columns,\n",
    "           'cml' : cost_columns,\n",
    "           'dem' : demog_columns,\n",
    "           'svy' : sur_columns}\n",
    "tbls  = {'acl':'course_list', 'reg':'registrants', \n",
    "         'dem':'demography', 'cml':'cost_model',\n",
    "         'gra':'grade_report', 'svy':'surveys'}"
   ]
  },
  {
   "cell_type": "code",
   "execution_count": 97,
   "metadata": {},
   "outputs": [],
   "source": [
    "def filtab(df, dbtab, cid):\n",
    "    interval = []\n",
    "    if isinstance(df, bool)==False:\n",
    "        lst1 = df[cid].tolist()\n",
    "        if isinstance(dbtab, bool)==False:\n",
    "            lst2 = dbtab[cid].tolist()\n",
    "            interval.append(set(lst1).intersection(set(lst2)))\n",
    "    if interval:\n",
    "        return False\n",
    "    else:\n",
    "        return df"
   ]
  },
  {
   "cell_type": "code",
   "execution_count": 100,
   "metadata": {},
   "outputs": [],
   "source": [
    "def tosqlite(dbpath, df,dbtab, cid, flag, tab_name,tabmsg1,mode, label, rplc = False):\n",
    "    error = replaces= [] \n",
    "    if rplc == False:\n",
    "        df = filtab(df, dbtab, cid)\n",
    "    if isinstance(df, bool)== False and flag == None:\n",
    "        try:\n",
    "            con = sqlite3.connect(dbpath)\n",
    "            cursor = con.cursor()\n",
    "            engine = create_engine('sqlite:///'+dbpath, echo=False)              \n",
    "            if label == 'reg':\n",
    "                df.columns = replacespacer(df.columns)\n",
    "            else:\n",
    "                df.columns = replacespace(df.columns)\n",
    "            # mode = 'append'/'replace'\n",
    "            df.to_sql(tab_name, engine, if_exists=mode, index=False)\n",
    "            if mode == 'append':\n",
    "                error.append(f\"Section-4: {tabmsg1} was successfully appended to db!\")\n",
    "            if mode == 'replace' and tab_name != 'frac_setting':\n",
    "                error.append(f\"Section-4: {tabmsg1} was successfully replaced in db!\")\n",
    "                replaces.append(tab_name)\n",
    "        except sqlite3.Error as error:            \n",
    "            error.append(f\"{tblname} wasn't added to DB due to {error}.\")\n",
    "        else:\n",
    "            error.append(f\"{tblname} wasn added to DB!\")       \n",
    "        finally:\n",
    "            if con:\n",
    "                con.close()\n",
    "    elif flag == False:\n",
    "        error.append(f\"Section-4: Check columns mismatch in {tabmsg1} file!\")\n",
    "    else:\n",
    "        error.append(f\"Section-4: No {tabmsg1} input and nothing was iserted\"\n",
    "               +\" to DB or table might be already in DB!\")\n",
    "    return error, replaces"
   ]
  },
  {
   "cell_type": "code",
   "execution_count": 101,
   "metadata": {},
   "outputs": [
    {
     "data": {
      "text/plain": [
       "(['Section-4: No Course List File input and nothing was iserted to DB or table might be already in DB!'],\n",
       " ['Section-4: No Course List File input and nothing was iserted to DB or table might be already in DB!'])"
      ]
     },
     "execution_count": 101,
     "metadata": {},
     "output_type": "execute_result"
    }
   ],
   "source": [
    "allf = None\n",
    "dfall = pd.read_excel('./DB_Tables/course_list.xlsx')\n",
    "acl1 = qerrydb(dbpath, tbls['acl'], allcols['acl'])\n",
    "tosqlite(dbpath, dfall, acl1, 'acronym', allf, tbls['acl'],\n",
    "                'Course List File', 'acl','append')"
   ]
  },
  {
   "cell_type": "code",
   "execution_count": 118,
   "metadata": {},
   "outputs": [],
   "source": [
    "def tosqlite(df, tblname, dbpath, label):\n",
    "    msg = '' \n",
    "    if isinstance(df, bool)== False:\n",
    "        try:\n",
    "            con = sqlite3.connect(dbpath)\n",
    "            cursor = con.cursor()    \n",
    "            engine = create_engine('sqlite:///'+dbpath, echo=False)  \n",
    "            if label == 'reg':\n",
    "                df.columns = replacespacer(df.columns)\n",
    "            else:\n",
    "                df.columns = replacespace(df.columns)\n",
    "            df.to_sql(tblname, engine, if_exists='append',index=False)            \n",
    "        except sqlite3.Error as error:            \n",
    "            msg = f\"{tblname} wasn't added to DB due to {error}.\"\n",
    "        else:\n",
    "            msg = f\"{tblname} wasn added to DB!\"       \n",
    "        finally:\n",
    "            if con:\n",
    "                con.close()\n",
    "    else:\n",
    "        msg = f\"Check {tblname}, it is empty and not added to DB!\"  \n",
    "    return msg"
   ]
  },
  {
   "cell_type": "code",
   "execution_count": null,
   "metadata": {},
   "outputs": [],
   "source": []
  },
  {
   "cell_type": "code",
   "execution_count": 63,
   "metadata": {},
   "outputs": [
    {
     "data": {
      "text/plain": [
       "'course_list wasn added to DB!'"
      ]
     },
     "execution_count": 63,
     "metadata": {},
     "output_type": "execute_result"
    }
   ],
   "source": [
    "dbpath = 'alemdb'\n",
    "df = pd.read_excel('./DB_Tables/course_list.xlsx')\n",
    "tosqlite(df, \"course_list\", dbpath, 'acl')"
   ]
  },
  {
   "cell_type": "code",
   "execution_count": 64,
   "metadata": {},
   "outputs": [
    {
     "data": {
      "text/plain": [
       "'registrants wasn added to DB!'"
      ]
     },
     "execution_count": 64,
     "metadata": {},
     "output_type": "execute_result"
    }
   ],
   "source": [
    "dbpath = 'alemdb'\n",
    "df = pd.read_excel('./DB_Tables/registrants.xlsx')\n",
    "tosqlite(df, \"registrants\", dbpath, 'reg')"
   ]
  },
  {
   "cell_type": "code",
   "execution_count": 65,
   "metadata": {},
   "outputs": [
    {
     "data": {
      "text/plain": [
       "'grade_report wasn added to DB!'"
      ]
     },
     "execution_count": 65,
     "metadata": {},
     "output_type": "execute_result"
    }
   ],
   "source": [
    "dbpath = 'alemdb'\n",
    "df = pd.read_excel('./DB_Tables/grade_report.xlsx')\n",
    "tosqlite(df, \"grade_report\", dbpath, 'gra')"
   ]
  },
  {
   "cell_type": "code",
   "execution_count": 66,
   "metadata": {},
   "outputs": [
    {
     "data": {
      "text/plain": [
       "'demography wasn added to DB!'"
      ]
     },
     "execution_count": 66,
     "metadata": {},
     "output_type": "execute_result"
    }
   ],
   "source": [
    "dbpath = 'alemdb'\n",
    "df = pd.read_excel('./DB_Tables/demography.xlsx')\n",
    "tosqlite(df, \"demography\", dbpath, 'dem')"
   ]
  },
  {
   "cell_type": "code",
   "execution_count": 67,
   "metadata": {},
   "outputs": [
    {
     "data": {
      "text/plain": [
       "'surveys wasn added to DB!'"
      ]
     },
     "execution_count": 67,
     "metadata": {},
     "output_type": "execute_result"
    }
   ],
   "source": [
    "dbpath = 'alemdb'\n",
    "df = pd.read_excel('./DB_Tables/surveys.xlsx')\n",
    "tosqlite(df, \"surveys\", dbpath, 'cml')"
   ]
  },
  {
   "cell_type": "code",
   "execution_count": 68,
   "metadata": {},
   "outputs": [
    {
     "data": {
      "text/plain": [
       "'cost_model wasn added to DB!'"
      ]
     },
     "execution_count": 68,
     "metadata": {},
     "output_type": "execute_result"
    }
   ],
   "source": [
    "dbpath = 'alemdb'\n",
    "df = pd.read_excel('./DB_Tables/cost_model.xlsx')\n",
    "tosqlite(df, \"cost_model\", dbpath, 'cml')"
   ]
  },
  {
   "cell_type": "markdown",
   "metadata": {},
   "source": [
    "# Querry Tables"
   ]
  },
  {
   "cell_type": "code",
   "execution_count": 104,
   "metadata": {},
   "outputs": [],
   "source": [
    "def qerrydb(dbpath, tblname, col):  \n",
    "    try:\n",
    "        engine = create_engine('sqlite:///'+dbpath, echo=False)\n",
    "        df = pd.DataFrame(engine.execute(f\"Select DISTINCT * from {tblname}\"), \n",
    "                     columns=col)          \n",
    "    except:\n",
    "        msg = f\"{tblname} doesn't exist or columns don't match!\"\n",
    "        return msg\n",
    "    else:\n",
    "        return df          "
   ]
  },
  {
   "cell_type": "code",
   "execution_count": 88,
   "metadata": {},
   "outputs": [
    {
     "data": {
      "text/plain": [
       "['course_list',\n",
       " 'registrants',\n",
       " 'demography',\n",
       " 'cost_model',\n",
       " 'grade_report',\n",
       " 'surveys',\n",
       " 'checklist']"
      ]
     },
     "execution_count": 88,
     "metadata": {},
     "output_type": "execute_result"
    }
   ],
   "source": [
    "['course_list', 'registrants', 'demography','cost_model',\n",
    "      'grade_report', 'surveys','checklist']"
   ]
  },
  {
   "cell_type": "code",
   "execution_count": 72,
   "metadata": {},
   "outputs": [
    {
     "data": {
      "text/html": [
       "<div>\n",
       "<style scoped>\n",
       "    .dataframe tbody tr th:only-of-type {\n",
       "        vertical-align: middle;\n",
       "    }\n",
       "\n",
       "    .dataframe tbody tr th {\n",
       "        vertical-align: top;\n",
       "    }\n",
       "\n",
       "    .dataframe thead th {\n",
       "        text-align: right;\n",
       "    }\n",
       "</style>\n",
       "<table border=\"1\" class=\"dataframe\">\n",
       "  <thead>\n",
       "    <tr style=\"text-align: right;\">\n",
       "      <th></th>\n",
       "      <th>course_id</th>\n",
       "      <th>course_abb</th>\n",
       "      <th>mmyyyy</th>\n",
       "      <th>course_type</th>\n",
       "      <th>First Name:</th>\n",
       "      <th>Last Name:</th>\n",
       "      <th>Email Address:</th>\n",
       "      <th>Address 1:</th>\n",
       "      <th>City:</th>\n",
       "      <th>State:</th>\n",
       "      <th>...</th>\n",
       "      <th>Registration Date</th>\n",
       "      <th>Registration Status</th>\n",
       "      <th>Payment Status</th>\n",
       "      <th>Payment Type</th>\n",
       "      <th>Fee Type</th>\n",
       "      <th>Promo Code</th>\n",
       "      <th>Code Type</th>\n",
       "      <th>Discount Percent</th>\n",
       "      <th>Discount Amount</th>\n",
       "      <th>Total Price</th>\n",
       "    </tr>\n",
       "  </thead>\n",
       "  <tbody>\n",
       "    <tr>\n",
       "      <td>0</td>\n",
       "      <td>AA_2020_09_09</td>\n",
       "      <td>AA</td>\n",
       "      <td>09/09/2020</td>\n",
       "      <td>public</td>\n",
       "      <td>Caleb</td>\n",
       "      <td>Qi</td>\n",
       "      <td>cqi2@binghamton.edu</td>\n",
       "      <td>55 Fairview Avenue</td>\n",
       "      <td>Great Neck</td>\n",
       "      <td>New York</td>\n",
       "      <td>...</td>\n",
       "      <td>09/09/2020 10:24:26 AM EDT</td>\n",
       "      <td>Registered</td>\n",
       "      <td>Paid</td>\n",
       "      <td>PayPal</td>\n",
       "      <td>BU Students/SUNY Students (must be matriculate...</td>\n",
       "      <td>None</td>\n",
       "      <td>None</td>\n",
       "      <td>NaN</td>\n",
       "      <td>None</td>\n",
       "      <td>95</td>\n",
       "    </tr>\n",
       "    <tr>\n",
       "      <td>1</td>\n",
       "      <td>AA_2020_09_09</td>\n",
       "      <td>AA</td>\n",
       "      <td>09/09/2020</td>\n",
       "      <td>public</td>\n",
       "      <td>Jack</td>\n",
       "      <td>Fischer</td>\n",
       "      <td>jfische8@binghamton.edu</td>\n",
       "      <td>29 Tamarack Pl</td>\n",
       "      <td>Briarcliff Manor</td>\n",
       "      <td>New York</td>\n",
       "      <td>...</td>\n",
       "      <td>07/20/2020 10:01:00 PM EDT</td>\n",
       "      <td>Registered</td>\n",
       "      <td>Paid</td>\n",
       "      <td>PayPal</td>\n",
       "      <td>BU faculty/staff/alumni graduated Dec. 2019 or...</td>\n",
       "      <td>None</td>\n",
       "      <td>None</td>\n",
       "      <td>NaN</td>\n",
       "      <td>None</td>\n",
       "      <td>150</td>\n",
       "    </tr>\n",
       "  </tbody>\n",
       "</table>\n",
       "<p>2 rows × 28 columns</p>\n",
       "</div>"
      ],
      "text/plain": [
       "       course_id course_abb      mmyyyy course_type First Name: Last Name:  \\\n",
       "0  AA_2020_09_09         AA  09/09/2020      public       Caleb         Qi   \n",
       "1  AA_2020_09_09         AA  09/09/2020      public        Jack    Fischer   \n",
       "\n",
       "            Email Address:          Address 1:             City:    State:  \\\n",
       "0      cqi2@binghamton.edu  55 Fairview Avenue        Great Neck  New York   \n",
       "1  jfische8@binghamton.edu      29 Tamarack Pl  Briarcliff Manor  New York   \n",
       "\n",
       "   ...           Registration Date Registration Status Payment Status  \\\n",
       "0  ...  09/09/2020 10:24:26 AM EDT          Registered           Paid   \n",
       "1  ...  07/20/2020 10:01:00 PM EDT          Registered           Paid   \n",
       "\n",
       "  Payment Type                                           Fee Type Promo Code  \\\n",
       "0       PayPal  BU Students/SUNY Students (must be matriculate...       None   \n",
       "1       PayPal  BU faculty/staff/alumni graduated Dec. 2019 or...       None   \n",
       "\n",
       "  Code Type Discount Percent Discount Amount Total Price  \n",
       "0      None              NaN            None          95  \n",
       "1      None              NaN            None         150  \n",
       "\n",
       "[2 rows x 28 columns]"
      ]
     },
     "execution_count": 72,
     "metadata": {},
     "output_type": "execute_result"
    }
   ],
   "source": [
    "dbpath = 'alemdb'\n",
    "qerrydb(dbpath, tbls['reg'], allcols['reg']).head(2)"
   ]
  },
  {
   "cell_type": "code",
   "execution_count": 73,
   "metadata": {},
   "outputs": [
    {
     "name": "stdout",
     "output_type": "stream",
     "text": [
      "---- acl---------\n",
      "           course_name acronym    cost_model\n",
      "0         AI Workshop      AIW  Face to face\n",
      "1  Advanced Algorithms      AA        Online\n",
      "\n",
      "---- reg---------\n",
      "       course_id course_abb      mmyyyy course_type First Name: Last Name:  \\\n",
      "0  AA_2020_09_09         AA  09/09/2020      public       Caleb         Qi   \n",
      "1  AA_2020_09_09         AA  09/09/2020      public        Jack    Fischer   \n",
      "\n",
      "            Email Address:          Address 1:             City:    State:  \\\n",
      "0      cqi2@binghamton.edu  55 Fairview Avenue        Great Neck  New York   \n",
      "1  jfische8@binghamton.edu      29 Tamarack Pl  Briarcliff Manor  New York   \n",
      "\n",
      "   ...           Registration Date Registration Status Payment Status  \\\n",
      "0  ...  09/09/2020 10:24:26 AM EDT          Registered           Paid   \n",
      "1  ...  07/20/2020 10:01:00 PM EDT          Registered           Paid   \n",
      "\n",
      "  Payment Type                                           Fee Type Promo Code  \\\n",
      "0       PayPal  BU Students/SUNY Students (must be matriculate...       None   \n",
      "1       PayPal  BU faculty/staff/alumni graduated Dec. 2019 or...       None   \n",
      "\n",
      "  Code Type Discount Percent Discount Amount Total Price  \n",
      "0      None              NaN            None          95  \n",
      "1      None              NaN            None         150  \n",
      "\n",
      "[2 rows x 28 columns]\n",
      "\n",
      "---- cml---------\n",
      "        course_id course_abb      mmyyyy course_type             Name  \\\n",
      "0   AA_2020_09_09         AA  09/09/2020      public  Anand Seetharam   \n",
      "1  APS_2020_01_06        APS  06/01/2020      public        Shuxia Lu   \n",
      "\n",
      "         Role   Pay     Type Location  \n",
      "0  Instructor  0.25  percent       in  \n",
      "1  Instructor  0.25  percent       in  \n",
      "\n",
      "---- svy---------\n",
      "        course_id course_abb      mmyyyy course_type  \\\n",
      "0  APS_2020_06_29        APS  29/06/2020      public   \n",
      "1  ItA_2020_07_29        ItA  29/07/2020      public   \n",
      "\n",
      "                                        questions opinion  scores  count  \n",
      "0       Your Likelihood to Recommend this course?     9.0       0      2  \n",
      "1  Contribution of course to your skill/knowledge    Fair       2      1  \n",
      "\n",
      "---- dem---------\n",
      "       course_id course_abb      mmyyyy course_type  \\\n",
      "0  AA_2020_09_09         AA  09/09/2020      public   \n",
      "1  AA_2020_09_09         AA  09/09/2020      public   \n",
      "\n",
      "                                              object         by  count  \n",
      "0                                             Alumni  job_title      1  \n",
      "1  BU Students/SUNY Students (must be matriculate...   Fee Type      1  \n",
      "\n",
      "---- gra---------\n",
      "         course_id course_abb      mmyyyy course_type Last Name First Name  \\\n",
      "0  SESA_2020_06_22       SESA  22/06/2020      public      Akem   Kingsley   \n",
      "1  SESA_2020_06_22       SESA  22/06/2020      public     Dalvi    Rohan G   \n",
      "\n",
      "    Username Student ID                 Last Access Availability  Final Exam  \\\n",
      "0   kakem_oc       None  2020-07-16 21:52:00.000000          Yes        91.0   \n",
      "1  b00813213  B00813213  2020-07-24 04:24:00.000000          Yes        97.0   \n",
      "\n",
      "  Final Grade  \n",
      "0      Passed  \n",
      "1      Passed  \n",
      "\n"
     ]
    }
   ],
   "source": [
    "dbpath = 'alemdb'\n",
    "codes = ['acl', 'reg', 'cml', 'svy', 'dem','gra']\n",
    "for cc in codes:\n",
    "    print(f\"---- {cc}---------\")\n",
    "    print(qerrydb(dbpath, tbls[cc], allcols[cc]).head(2))\n",
    "    print()"
   ]
  },
  {
   "cell_type": "markdown",
   "metadata": {},
   "source": [
    "# Method for updating tables:"
   ]
  },
  {
   "cell_type": "code",
   "execution_count": 77,
   "metadata": {},
   "outputs": [],
   "source": [
    "def updatemain(df, flag, dfname): \n",
    "    msg = ''\n",
    "    if isinstance(df, bool)== False:\n",
    "        tuples = list(df.itertuples(index=False, name=None))\n",
    "        if flag == 'acl':\n",
    "            for tup in tuples:            \n",
    "                course_name, acronym, cost_model = tup\n",
    "                msg = updateCourselistTable(course_name, acronym, \n",
    "                                     cost_model)\n",
    "            msg = msg\n",
    "        elif flag == 'reg':\n",
    "            def replacespacer(col):\n",
    "                tmp = [col.replace(' ', '_') for col in col]\n",
    "                tmp = [col.strip(':') for col in tmp]\n",
    "                tmp = [col.strip('?') for col in tmp]\n",
    "                tmp = [col.replace('/', '_') for col in tmp]\n",
    "                return tmp\n",
    "            df.columns = replacespacer(df.columns)\n",
    "            tuples = list(df.itertuples(index=False, name=None))            \n",
    "            for tup in tuples: \n",
    "                course_id, course_abb, mmyyyy,\\\n",
    "                course_type, First_Name, Last_Name,\\\n",
    "                Email_Address, Address, City,State, \\\n",
    "                Education_Level, Country, ZIP_Code,\\\n",
    "                Phone, Company_School, Job_Title,\\\n",
    "                Department, How_did_you_hear_about_this_course,\\\n",
    "                Registration_Date, Registration_Status,\\\n",
    "                Payment_Status, Payment_Type, Fee_Type,\\\n",
    "                Promo_Code, Code_Type, Discount_Percent,\\\n",
    "                Discount_Amount, Total_Price = tup\n",
    "                msg = updateRegistrantsTable(course_id, course_abb, mmyyyy,\n",
    "                                       course_type, First_Name, Last_Name,\n",
    "                                       Email_Address, Address, City,State, \n",
    "                                       Education_Level, Country, ZIP_Code,\n",
    "                                       Phone, Company_School, Job_Title,\n",
    "                                       Department, How_did_you_hear_about_this_course,\n",
    "                                       Registration_Date, Registration_Status,\n",
    "                                       Payment_Status, Payment_Type, Fee_Type, \n",
    "                                       Promo_Code, Code_Type, Discount_Percent,\n",
    "                                       Discount_Amount, Total_Price)   \n",
    "            msg = msg\n",
    "        elif flag == 'dem':\n",
    "            for tup in tuples:\n",
    "                course_id, course_abb, mmyyyy, course_type,\\\n",
    "                object, by, count = tup\n",
    "                msg = updateDemographyTable(course_id, course_abb, \n",
    "                                      mmyyyy, course_type,\n",
    "                                      object, by, count) \n",
    "            msg = msg\n",
    "            \n",
    "        elif flag == 'gra':\n",
    "            for tup in tuples:\n",
    "                course_id,course_abb,mmyyyy,course_type,\\\n",
    "                Last_Name,First_Name,Username,\\\n",
    "                Student_ID,Last_Access, Availability,\\\n",
    "                Final_Exam, Final_Grade = tup\n",
    "                msg = updateGradeTable(course_id,course_abb,\n",
    "                                 mmyyyy,course_type,Last_Name,\n",
    "                                 First_Name,Username, \n",
    "                                 Student_ID,Last_Access,\n",
    "                                 Availability, Final_Exam, \n",
    "                                 Final_Grade) \n",
    "            msg = msg\n",
    "            \n",
    "        elif flag == 'cml':\n",
    "            for tup in tuples:\n",
    "                course_id, course_abb, mmyyyy, course_type,\\\n",
    "                    Name, Role, Pay, Type, Location = tup\n",
    "                msg = updateCostTable(course_id, course_abb, mmyyyy, course_type,\n",
    "                    Name, Role, Pay, Type, Location)  \n",
    "            msg = msg\n",
    "        elif flag == 'svy':\n",
    "            for tup in tuples:\n",
    "                course_id, course_abb, mmyyyy, course_type,\\\n",
    "                questions, opinion, scores, count = tup\n",
    "                msg = updateSurveysTable(course_id, course_abb, mmyyyy, course_type,\n",
    "                                   questions, opinion, scores, count) \n",
    "            msg = msg\n",
    "        else:\n",
    "            msg = f\"{flag} doesn't match with any of the dataframes!\"\n",
    "    else:\n",
    "        msg = f\"{dfname} is empty!\"     \n",
    "    return msg\n"
   ]
  },
  {
   "cell_type": "code",
   "execution_count": 78,
   "metadata": {},
   "outputs": [],
   "source": [
    "files = ['./DB_Tables/registrants.xlsx',\n",
    "         './DB_Tables/grade_report.xlsx',\n",
    "         './DB_Tables/course_list.xlsx',\n",
    "         './DB_Tables/demography.xlsx',\n",
    "         './DB_Tables/surveys.xlsx',\n",
    "         './DB_Tables/cost_model.xlsx']\n",
    "df = pd.read_excel(files[0])\n"
   ]
  },
  {
   "cell_type": "code",
   "execution_count": 79,
   "metadata": {},
   "outputs": [
    {
     "data": {
      "text/plain": [
       "'Registrants_Table was updated successfully!'"
      ]
     },
     "execution_count": 79,
     "metadata": {},
     "output_type": "execute_result"
    }
   ],
   "source": [
    "msg = updatemain(df, 'reg', 'Registration')\n",
    "msg"
   ]
  },
  {
   "cell_type": "markdown",
   "metadata": {},
   "source": [
    "## Convert grades to named to tuples"
   ]
  },
  {
   "cell_type": "code",
   "execution_count": 43,
   "metadata": {},
   "outputs": [
    {
     "data": {
      "text/html": [
       "<div>\n",
       "<style scoped>\n",
       "    .dataframe tbody tr th:only-of-type {\n",
       "        vertical-align: middle;\n",
       "    }\n",
       "\n",
       "    .dataframe tbody tr th {\n",
       "        vertical-align: top;\n",
       "    }\n",
       "\n",
       "    .dataframe thead th {\n",
       "        text-align: right;\n",
       "    }\n",
       "</style>\n",
       "<table border=\"1\" class=\"dataframe\">\n",
       "  <thead>\n",
       "    <tr style=\"text-align: right;\">\n",
       "      <th></th>\n",
       "      <th>course_id</th>\n",
       "      <th>course_abb</th>\n",
       "      <th>mmyyyy</th>\n",
       "      <th>course_type</th>\n",
       "      <th>Last Name</th>\n",
       "      <th>First Name</th>\n",
       "      <th>Username</th>\n",
       "      <th>Student ID</th>\n",
       "      <th>Last Access</th>\n",
       "      <th>Availability</th>\n",
       "      <th>Final Exam</th>\n",
       "      <th>Final Grade</th>\n",
       "    </tr>\n",
       "  </thead>\n",
       "  <tbody>\n",
       "    <tr>\n",
       "      <td>0</td>\n",
       "      <td>SESA_2020_06_22</td>\n",
       "      <td>SESA</td>\n",
       "      <td>22/06/2020</td>\n",
       "      <td>public</td>\n",
       "      <td>Akem</td>\n",
       "      <td>Kingsley</td>\n",
       "      <td>kakem_oc</td>\n",
       "      <td>None</td>\n",
       "      <td>2020-07-16 21:52:00.000000</td>\n",
       "      <td>Yes</td>\n",
       "      <td>91.0</td>\n",
       "      <td>Passed</td>\n",
       "    </tr>\n",
       "    <tr>\n",
       "      <td>1</td>\n",
       "      <td>SESA_2020_06_22</td>\n",
       "      <td>SESA</td>\n",
       "      <td>22/06/2020</td>\n",
       "      <td>public</td>\n",
       "      <td>Dalvi</td>\n",
       "      <td>Rohan G</td>\n",
       "      <td>b00813213</td>\n",
       "      <td>B00813213</td>\n",
       "      <td>2020-07-24 04:24:00.000000</td>\n",
       "      <td>Yes</td>\n",
       "      <td>97.0</td>\n",
       "      <td>Passed</td>\n",
       "    </tr>\n",
       "  </tbody>\n",
       "</table>\n",
       "</div>"
      ],
      "text/plain": [
       "         course_id course_abb      mmyyyy course_type Last Name First Name  \\\n",
       "0  SESA_2020_06_22       SESA  22/06/2020      public      Akem   Kingsley   \n",
       "1  SESA_2020_06_22       SESA  22/06/2020      public     Dalvi    Rohan G   \n",
       "\n",
       "    Username Student ID                 Last Access Availability  Final Exam  \\\n",
       "0   kakem_oc       None  2020-07-16 21:52:00.000000          Yes        91.0   \n",
       "1  b00813213  B00813213  2020-07-24 04:24:00.000000          Yes        97.0   \n",
       "\n",
       "  Final Grade  \n",
       "0      Passed  \n",
       "1      Passed  "
      ]
     },
     "execution_count": 43,
     "metadata": {},
     "output_type": "execute_result"
    }
   ],
   "source": [
    "grades.head(2)"
   ]
  },
  {
   "cell_type": "code",
   "execution_count": 45,
   "metadata": {},
   "outputs": [
    {
     "data": {
      "text/plain": [
       "Pandas(course_id='SESA_2020_06_22', course_abb='SESA', mmyyyy='22/06/2020', course_type='public', _4='Akem', _5='Kingsley', Username='kakem_oc', _7=None, _8='2020-07-16 21:52:00.000000', Availability='Yes', _10=91.0, _11='Passed')"
      ]
     },
     "execution_count": 45,
     "metadata": {},
     "output_type": "execute_result"
    }
   ],
   "source": [
    "list(grades.itertuples(index=False))[0]"
   ]
  },
  {
   "cell_type": "markdown",
   "metadata": {},
   "source": [
    "## Convert grades to unnamed tuples"
   ]
  },
  {
   "cell_type": "code",
   "execution_count": 47,
   "metadata": {},
   "outputs": [
    {
     "data": {
      "text/plain": [
       "('SESA_2020_06_22',\n",
       " 'SESA',\n",
       " '22/06/2020',\n",
       " 'public',\n",
       " 'Akem',\n",
       " 'Kingsley',\n",
       " 'kakem_oc',\n",
       " None,\n",
       " '2020-07-16 21:52:00.000000',\n",
       " 'Yes',\n",
       " 91.0,\n",
       " 'Passed')"
      ]
     },
     "execution_count": 47,
     "metadata": {},
     "output_type": "execute_result"
    }
   ],
   "source": [
    "list(grades.itertuples(index=False, name=None))[0]"
   ]
  },
  {
   "cell_type": "markdown",
   "metadata": {},
   "source": [
    "## Update grade_report table using for loop"
   ]
  },
  {
   "cell_type": "code",
   "execution_count": 51,
   "metadata": {},
   "outputs": [
    {
     "name": "stdout",
     "output_type": "stream",
     "text": [
      "Grade_Table update faile due to no such column: Last_Name.\n",
      "Grade_Table update faile due to no such column: Last_Name.\n",
      "Grade_Table update faile due to no such column: Last_Name.\n",
      "Grade_Table update faile due to no such column: Last_Name.\n",
      "Grade_Table update faile due to no such column: Last_Name.\n",
      "Grade_Table update faile due to no such column: Last_Name.\n",
      "Grade_Table update faile due to no such column: Last_Name.\n",
      "Grade_Table update faile due to no such column: Last_Name.\n",
      "Grade_Table update faile due to no such column: Last_Name.\n",
      "Grade_Table update faile due to no such column: Last_Name.\n"
     ]
    }
   ],
   "source": [
    "grade_tuples= list(grades.itertuples(index=False, name=None))\n",
    "for tup in grade_tuples:\n",
    "    course_id,course_abb,mmyyyy,course_type,Last_Name,\\\n",
    "    First_Name,Username, Student_ID,Last_Access,\\\n",
    "    Availability, Final_Exam, Final_Grade = tup\n",
    "    print(updateGradeTable(course_id,course_abb,mmyyyy,course_type,Last_Name,\n",
    "                 First_Name,Username, Student_ID,Last_Access,\n",
    "                 Availability, Final_Exam, Final_Grade))"
   ]
  },
  {
   "cell_type": "markdown",
   "metadata": {},
   "source": [
    "## All Database Names should be standard"
   ]
  },
  {
   "cell_type": "code",
   "execution_count": 4,
   "metadata": {},
   "outputs": [],
   "source": [
    "# After installing with pip install psycopg2\n",
    "import psycopg2 as pg2\n"
   ]
  },
  {
   "cell_type": "markdown",
   "metadata": {},
   "source": [
    "# Intersection of two dataframe in Pandas – Python"
   ]
  },
  {
   "cell_type": "code",
   "execution_count": 137,
   "metadata": {},
   "outputs": [],
   "source": [
    "import pandas as pd \n",
    "\n",
    "# Creating Data frames \n",
    "df1 = {'A': [1, 2, 3, 4], \n",
    "      'B': ['abc', 'def', 'efg', 'ghi']} \n",
    "df2 = {'A': [1, 2, 3, 4 ], \n",
    "       'B': ['Geeks', 'For', 'efg', 'ghi'], \n",
    "        'C':['Nikhil', 'Rishabh', 'Rahul', 'Shubham']} "
   ]
  },
  {
   "cell_type": "code",
   "execution_count": 139,
   "metadata": {},
   "outputs": [
    {
     "data": {
      "text/html": [
       "<div>\n",
       "<style scoped>\n",
       "    .dataframe tbody tr th:only-of-type {\n",
       "        vertical-align: middle;\n",
       "    }\n",
       "\n",
       "    .dataframe tbody tr th {\n",
       "        vertical-align: top;\n",
       "    }\n",
       "\n",
       "    .dataframe thead th {\n",
       "        text-align: right;\n",
       "    }\n",
       "</style>\n",
       "<table border=\"1\" class=\"dataframe\">\n",
       "  <thead>\n",
       "    <tr style=\"text-align: right;\">\n",
       "      <th></th>\n",
       "      <th>A</th>\n",
       "      <th>B</th>\n",
       "    </tr>\n",
       "  </thead>\n",
       "  <tbody>\n",
       "    <tr>\n",
       "      <td>0</td>\n",
       "      <td>1</td>\n",
       "      <td>abc</td>\n",
       "    </tr>\n",
       "    <tr>\n",
       "      <td>1</td>\n",
       "      <td>2</td>\n",
       "      <td>def</td>\n",
       "    </tr>\n",
       "    <tr>\n",
       "      <td>2</td>\n",
       "      <td>3</td>\n",
       "      <td>efg</td>\n",
       "    </tr>\n",
       "    <tr>\n",
       "      <td>3</td>\n",
       "      <td>4</td>\n",
       "      <td>ghi</td>\n",
       "    </tr>\n",
       "  </tbody>\n",
       "</table>\n",
       "</div>"
      ],
      "text/plain": [
       "   A    B\n",
       "0  1  abc\n",
       "1  2  def\n",
       "2  3  efg\n",
       "3  4  ghi"
      ]
     },
     "execution_count": 139,
     "metadata": {},
     "output_type": "execute_result"
    }
   ],
   "source": [
    "d1 = pd.DataFrame(df1) \n",
    "d1"
   ]
  },
  {
   "cell_type": "code",
   "execution_count": 140,
   "metadata": {},
   "outputs": [
    {
     "data": {
      "text/html": [
       "<div>\n",
       "<style scoped>\n",
       "    .dataframe tbody tr th:only-of-type {\n",
       "        vertical-align: middle;\n",
       "    }\n",
       "\n",
       "    .dataframe tbody tr th {\n",
       "        vertical-align: top;\n",
       "    }\n",
       "\n",
       "    .dataframe thead th {\n",
       "        text-align: right;\n",
       "    }\n",
       "</style>\n",
       "<table border=\"1\" class=\"dataframe\">\n",
       "  <thead>\n",
       "    <tr style=\"text-align: right;\">\n",
       "      <th></th>\n",
       "      <th>A</th>\n",
       "      <th>B</th>\n",
       "      <th>C</th>\n",
       "    </tr>\n",
       "  </thead>\n",
       "  <tbody>\n",
       "    <tr>\n",
       "      <td>0</td>\n",
       "      <td>1</td>\n",
       "      <td>Geeks</td>\n",
       "      <td>Nikhil</td>\n",
       "    </tr>\n",
       "    <tr>\n",
       "      <td>1</td>\n",
       "      <td>2</td>\n",
       "      <td>For</td>\n",
       "      <td>Rishabh</td>\n",
       "    </tr>\n",
       "    <tr>\n",
       "      <td>2</td>\n",
       "      <td>3</td>\n",
       "      <td>efg</td>\n",
       "      <td>Rahul</td>\n",
       "    </tr>\n",
       "    <tr>\n",
       "      <td>3</td>\n",
       "      <td>4</td>\n",
       "      <td>ghi</td>\n",
       "      <td>Shubham</td>\n",
       "    </tr>\n",
       "  </tbody>\n",
       "</table>\n",
       "</div>"
      ],
      "text/plain": [
       "   A      B        C\n",
       "0  1  Geeks   Nikhil\n",
       "1  2    For  Rishabh\n",
       "2  3    efg    Rahul\n",
       "3  4    ghi  Shubham"
      ]
     },
     "execution_count": 140,
     "metadata": {},
     "output_type": "execute_result"
    }
   ],
   "source": [
    "d2 = pd.DataFrame(df2) \n",
    "d2"
   ]
  },
  {
   "cell_type": "code",
   "execution_count": 141,
   "metadata": {},
   "outputs": [
    {
     "data": {
      "text/html": [
       "<div>\n",
       "<style scoped>\n",
       "    .dataframe tbody tr th:only-of-type {\n",
       "        vertical-align: middle;\n",
       "    }\n",
       "\n",
       "    .dataframe tbody tr th {\n",
       "        vertical-align: top;\n",
       "    }\n",
       "\n",
       "    .dataframe thead th {\n",
       "        text-align: right;\n",
       "    }\n",
       "</style>\n",
       "<table border=\"1\" class=\"dataframe\">\n",
       "  <thead>\n",
       "    <tr style=\"text-align: right;\">\n",
       "      <th></th>\n",
       "      <th>A</th>\n",
       "      <th>B</th>\n",
       "      <th>C</th>\n",
       "    </tr>\n",
       "  </thead>\n",
       "  <tbody>\n",
       "    <tr>\n",
       "      <td>0</td>\n",
       "      <td>3</td>\n",
       "      <td>efg</td>\n",
       "      <td>Rahul</td>\n",
       "    </tr>\n",
       "    <tr>\n",
       "      <td>1</td>\n",
       "      <td>4</td>\n",
       "      <td>ghi</td>\n",
       "      <td>Shubham</td>\n",
       "    </tr>\n",
       "  </tbody>\n",
       "</table>\n",
       "</div>"
      ],
      "text/plain": [
       "   A    B        C\n",
       "0  3  efg    Rahul\n",
       "1  4  ghi  Shubham"
      ]
     },
     "execution_count": 141,
     "metadata": {},
     "output_type": "execute_result"
    }
   ],
   "source": [
    "\n",
    "# Calling merge() function \n",
    "int_df = pd.merge(d1, d2, how ='inner', on =['A', 'B']) \n",
    "int_df"
   ]
  },
  {
   "cell_type": "code",
   "execution_count": 142,
   "metadata": {},
   "outputs": [
    {
     "name": "stdout",
     "output_type": "stream",
     "text": [
      "   A      B        C\n",
      "0  1  Geeks   Nikhil\n",
      "1  2    For  Rishabh\n"
     ]
    }
   ],
   "source": [
    "import pandas as pd \n",
    "\n",
    "# Creating Data frames \n",
    "df1 = {'A': [1, 2, 3, 4], \n",
    "\t\t'B': ['Geeks', 'For', 'efg', 'ghi']} \n",
    "df2 = {'A': [1, 2, 3, 4 ], \n",
    "\t\t'B': ['Geeks', 'For', 'abc', 'cde'], \n",
    "\t\t'C':['Nikhil', 'Rishabh', 'Rahul', 'Shubham']} \n",
    "\t\t\n",
    "d1 = pd.DataFrame(df1) \n",
    "d2 = pd.DataFrame(df2) \n",
    "\n",
    "# Calling merge() function \n",
    "int_df = pd.merge(d1, d2, how='inner', on=['A', 'B']) \n",
    "print(int_df) \n"
   ]
  },
  {
   "cell_type": "markdown",
   "metadata": {},
   "source": [
    "# Pandas Difference Between two Dataframes"
   ]
  },
  {
   "cell_type": "code",
   "execution_count": 26,
   "metadata": {},
   "outputs": [],
   "source": [
    "import pandas as pd\n",
    "\n",
    "df1 = pd.DataFrame({'City': ['New York', 'Chicago', 'Tokyo', 'Paris','New Delhi'],\n",
    "                     'Temp': [59, 29, 73, 56,48]})\n",
    "\n",
    "df2 = pd.DataFrame({'City': ['London', 'New York', 'Tokyo', 'New Delhi','Paris'],\n",
    "                     'Temp': [55, 55, 73, 85,56]})"
   ]
  },
  {
   "cell_type": "code",
   "execution_count": 27,
   "metadata": {},
   "outputs": [
    {
     "data": {
      "text/html": [
       "<div>\n",
       "<style scoped>\n",
       "    .dataframe tbody tr th:only-of-type {\n",
       "        vertical-align: middle;\n",
       "    }\n",
       "\n",
       "    .dataframe tbody tr th {\n",
       "        vertical-align: top;\n",
       "    }\n",
       "\n",
       "    .dataframe thead th {\n",
       "        text-align: right;\n",
       "    }\n",
       "</style>\n",
       "<table border=\"1\" class=\"dataframe\">\n",
       "  <thead>\n",
       "    <tr style=\"text-align: right;\">\n",
       "      <th></th>\n",
       "      <th>City</th>\n",
       "      <th>Temp</th>\n",
       "    </tr>\n",
       "  </thead>\n",
       "  <tbody>\n",
       "    <tr>\n",
       "      <td>0</td>\n",
       "      <td>New York</td>\n",
       "      <td>59</td>\n",
       "    </tr>\n",
       "    <tr>\n",
       "      <td>1</td>\n",
       "      <td>Chicago</td>\n",
       "      <td>29</td>\n",
       "    </tr>\n",
       "    <tr>\n",
       "      <td>2</td>\n",
       "      <td>Tokyo</td>\n",
       "      <td>73</td>\n",
       "    </tr>\n",
       "    <tr>\n",
       "      <td>3</td>\n",
       "      <td>Paris</td>\n",
       "      <td>56</td>\n",
       "    </tr>\n",
       "    <tr>\n",
       "      <td>4</td>\n",
       "      <td>New Delhi</td>\n",
       "      <td>48</td>\n",
       "    </tr>\n",
       "  </tbody>\n",
       "</table>\n",
       "</div>"
      ],
      "text/plain": [
       "        City  Temp\n",
       "0   New York    59\n",
       "1    Chicago    29\n",
       "2      Tokyo    73\n",
       "3      Paris    56\n",
       "4  New Delhi    48"
      ]
     },
     "execution_count": 27,
     "metadata": {},
     "output_type": "execute_result"
    }
   ],
   "source": [
    "df1"
   ]
  },
  {
   "cell_type": "code",
   "execution_count": 28,
   "metadata": {},
   "outputs": [
    {
     "data": {
      "text/html": [
       "<div>\n",
       "<style scoped>\n",
       "    .dataframe tbody tr th:only-of-type {\n",
       "        vertical-align: middle;\n",
       "    }\n",
       "\n",
       "    .dataframe tbody tr th {\n",
       "        vertical-align: top;\n",
       "    }\n",
       "\n",
       "    .dataframe thead th {\n",
       "        text-align: right;\n",
       "    }\n",
       "</style>\n",
       "<table border=\"1\" class=\"dataframe\">\n",
       "  <thead>\n",
       "    <tr style=\"text-align: right;\">\n",
       "      <th></th>\n",
       "      <th>City</th>\n",
       "      <th>Temp</th>\n",
       "    </tr>\n",
       "  </thead>\n",
       "  <tbody>\n",
       "    <tr>\n",
       "      <td>0</td>\n",
       "      <td>London</td>\n",
       "      <td>55</td>\n",
       "    </tr>\n",
       "    <tr>\n",
       "      <td>1</td>\n",
       "      <td>New York</td>\n",
       "      <td>55</td>\n",
       "    </tr>\n",
       "    <tr>\n",
       "      <td>2</td>\n",
       "      <td>Tokyo</td>\n",
       "      <td>73</td>\n",
       "    </tr>\n",
       "    <tr>\n",
       "      <td>3</td>\n",
       "      <td>New Delhi</td>\n",
       "      <td>85</td>\n",
       "    </tr>\n",
       "    <tr>\n",
       "      <td>4</td>\n",
       "      <td>Paris</td>\n",
       "      <td>56</td>\n",
       "    </tr>\n",
       "  </tbody>\n",
       "</table>\n",
       "</div>"
      ],
      "text/plain": [
       "        City  Temp\n",
       "0     London    55\n",
       "1   New York    55\n",
       "2      Tokyo    73\n",
       "3  New Delhi    85\n",
       "4      Paris    56"
      ]
     },
     "execution_count": 28,
     "metadata": {},
     "output_type": "execute_result"
    }
   ],
   "source": [
    "df2"
   ]
  },
  {
   "cell_type": "markdown",
   "metadata": {},
   "source": [
    "### Find Common Rows between two Dataframe Using Merge Function\n",
    "Using the merge function you can get the matching rows between the two dataframes. So we are merging dataframe(df1) with dataframe(df2) and Type of merge to be performed is inner, which use intersection of keys from both frames, similar to a SQL inner join."
   ]
  },
  {
   "cell_type": "code",
   "execution_count": 4,
   "metadata": {},
   "outputs": [
    {
     "data": {
      "text/html": [
       "<div>\n",
       "<style scoped>\n",
       "    .dataframe tbody tr th:only-of-type {\n",
       "        vertical-align: middle;\n",
       "    }\n",
       "\n",
       "    .dataframe tbody tr th {\n",
       "        vertical-align: top;\n",
       "    }\n",
       "\n",
       "    .dataframe thead th {\n",
       "        text-align: right;\n",
       "    }\n",
       "</style>\n",
       "<table border=\"1\" class=\"dataframe\">\n",
       "  <thead>\n",
       "    <tr style=\"text-align: right;\">\n",
       "      <th></th>\n",
       "      <th>City</th>\n",
       "      <th>Temp</th>\n",
       "    </tr>\n",
       "  </thead>\n",
       "  <tbody>\n",
       "    <tr>\n",
       "      <td>0</td>\n",
       "      <td>Tokyo</td>\n",
       "      <td>73</td>\n",
       "    </tr>\n",
       "    <tr>\n",
       "      <td>1</td>\n",
       "      <td>Paris</td>\n",
       "      <td>56</td>\n",
       "    </tr>\n",
       "  </tbody>\n",
       "</table>\n",
       "</div>"
      ],
      "text/plain": [
       "    City  Temp\n",
       "0  Tokyo    73\n",
       "1  Paris    56"
      ]
     },
     "execution_count": 4,
     "metadata": {},
     "output_type": "execute_result"
    }
   ],
   "source": [
    "df = df1.merge(df2, how = 'inner' ,indicator=False)\n",
    "df"
   ]
  },
  {
   "cell_type": "markdown",
   "metadata": {},
   "source": [
    "So what we get is Tokyo and Paris which is common between the two dataframes"
   ]
  },
  {
   "cell_type": "code",
   "execution_count": 7,
   "metadata": {},
   "outputs": [],
   "source": [
    "def onlyInner(df, dbtbl):    \n",
    "    if (isinstance(df, bool)==False)\\\n",
    "        and (isinstance(dbtbl, str)==False):\n",
    "        try:\n",
    "            inner = df.merge(dbtbl, how = 'inner',\n",
    "                             indicator=False)            \n",
    "        except:\n",
    "            return False\n",
    "        else:\n",
    "            return inner       \n",
    "    else:\n",
    "        return False"
   ]
  },
  {
   "cell_type": "code",
   "execution_count": 8,
   "metadata": {},
   "outputs": [
    {
     "data": {
      "text/html": [
       "<div>\n",
       "<style scoped>\n",
       "    .dataframe tbody tr th:only-of-type {\n",
       "        vertical-align: middle;\n",
       "    }\n",
       "\n",
       "    .dataframe tbody tr th {\n",
       "        vertical-align: top;\n",
       "    }\n",
       "\n",
       "    .dataframe thead th {\n",
       "        text-align: right;\n",
       "    }\n",
       "</style>\n",
       "<table border=\"1\" class=\"dataframe\">\n",
       "  <thead>\n",
       "    <tr style=\"text-align: right;\">\n",
       "      <th></th>\n",
       "      <th>City</th>\n",
       "      <th>Temp</th>\n",
       "    </tr>\n",
       "  </thead>\n",
       "  <tbody>\n",
       "    <tr>\n",
       "      <td>0</td>\n",
       "      <td>Tokyo</td>\n",
       "      <td>73</td>\n",
       "    </tr>\n",
       "    <tr>\n",
       "      <td>1</td>\n",
       "      <td>Paris</td>\n",
       "      <td>56</td>\n",
       "    </tr>\n",
       "  </tbody>\n",
       "</table>\n",
       "</div>"
      ],
      "text/plain": [
       "    City  Temp\n",
       "0  Tokyo    73\n",
       "1  Paris    56"
      ]
     },
     "execution_count": 8,
     "metadata": {},
     "output_type": "execute_result"
    }
   ],
   "source": [
    "onlyInner(df1, df2)"
   ]
  },
  {
   "cell_type": "code",
   "execution_count": 15,
   "metadata": {},
   "outputs": [],
   "source": [
    "def onlyInner2(df, dbtbl, cid):    \n",
    "    if (isinstance(df, bool)==False)\\\n",
    "        and (isinstance(dbtbl, str)==False):\n",
    "        try:\n",
    "            dblst = dbtbl[cid].tolist()            \n",
    "            inner = df[~df[cid].isin(dblst)]           \n",
    "        except:\n",
    "            return False\n",
    "        else:\n",
    "            return inner       \n",
    "    else:\n",
    "        return False"
   ]
  },
  {
   "cell_type": "code",
   "execution_count": 16,
   "metadata": {},
   "outputs": [
    {
     "data": {
      "text/html": [
       "<div>\n",
       "<style scoped>\n",
       "    .dataframe tbody tr th:only-of-type {\n",
       "        vertical-align: middle;\n",
       "    }\n",
       "\n",
       "    .dataframe tbody tr th {\n",
       "        vertical-align: top;\n",
       "    }\n",
       "\n",
       "    .dataframe thead th {\n",
       "        text-align: right;\n",
       "    }\n",
       "</style>\n",
       "<table border=\"1\" class=\"dataframe\">\n",
       "  <thead>\n",
       "    <tr style=\"text-align: right;\">\n",
       "      <th></th>\n",
       "      <th>City</th>\n",
       "      <th>Temp</th>\n",
       "    </tr>\n",
       "  </thead>\n",
       "  <tbody>\n",
       "    <tr>\n",
       "      <td>1</td>\n",
       "      <td>Chicago</td>\n",
       "      <td>29</td>\n",
       "    </tr>\n",
       "  </tbody>\n",
       "</table>\n",
       "</div>"
      ],
      "text/plain": [
       "      City  Temp\n",
       "1  Chicago    29"
      ]
     },
     "execution_count": 16,
     "metadata": {},
     "output_type": "execute_result"
    }
   ],
   "source": [
    "onlyInner2(df1, df2, 'City')"
   ]
  },
  {
   "cell_type": "code",
   "execution_count": 36,
   "metadata": {},
   "outputs": [],
   "source": [
    "def getThoseNotInDB(df, dbtbl, cid):    \n",
    "    if (isinstance(df, bool)==False)\\\n",
    "        and (isinstance(dbtbl, str)==False):\n",
    "        try:\n",
    "            dblst = dbtbl[cid].tolist()            \n",
    "            inner = df[~df[cid].isin(dblst)]           \n",
    "        except:\n",
    "            return False\n",
    "        else:\n",
    "            return inner       \n",
    "    else:\n",
    "        return False"
   ]
  },
  {
   "cell_type": "code",
   "execution_count": 37,
   "metadata": {},
   "outputs": [
    {
     "data": {
      "text/html": [
       "<div>\n",
       "<style scoped>\n",
       "    .dataframe tbody tr th:only-of-type {\n",
       "        vertical-align: middle;\n",
       "    }\n",
       "\n",
       "    .dataframe tbody tr th {\n",
       "        vertical-align: top;\n",
       "    }\n",
       "\n",
       "    .dataframe thead th {\n",
       "        text-align: right;\n",
       "    }\n",
       "</style>\n",
       "<table border=\"1\" class=\"dataframe\">\n",
       "  <thead>\n",
       "    <tr style=\"text-align: right;\">\n",
       "      <th></th>\n",
       "      <th>City</th>\n",
       "      <th>Temp</th>\n",
       "    </tr>\n",
       "  </thead>\n",
       "  <tbody>\n",
       "    <tr>\n",
       "      <td>1</td>\n",
       "      <td>Chicago</td>\n",
       "      <td>29</td>\n",
       "    </tr>\n",
       "  </tbody>\n",
       "</table>\n",
       "</div>"
      ],
      "text/plain": [
       "      City  Temp\n",
       "1  Chicago    29"
      ]
     },
     "execution_count": 37,
     "metadata": {},
     "output_type": "execute_result"
    }
   ],
   "source": [
    "getThoseNotInDB(df1, df2, 'City')"
   ]
  },
  {
   "cell_type": "code",
   "execution_count": null,
   "metadata": {},
   "outputs": [],
   "source": []
  },
  {
   "cell_type": "code",
   "execution_count": 35,
   "metadata": {},
   "outputs": [],
   "source": [
    "def onlyInner3(df, dbtbl, cid):    \n",
    "    if (isinstance(df, bool)==False)\\\n",
    "        and (isinstance(dbtbl, str)==False):\n",
    "        try:\n",
    "            dblst = dbtbl[cid].tolist()            \n",
    "            inner = df[df[cid].isin(dblst)]           \n",
    "        except:\n",
    "            return False\n",
    "        else:\n",
    "            return inner       \n",
    "    else:\n",
    "        return False"
   ]
  },
  {
   "cell_type": "code",
   "execution_count": 34,
   "metadata": {},
   "outputs": [
    {
     "data": {
      "text/html": [
       "<div>\n",
       "<style scoped>\n",
       "    .dataframe tbody tr th:only-of-type {\n",
       "        vertical-align: middle;\n",
       "    }\n",
       "\n",
       "    .dataframe tbody tr th {\n",
       "        vertical-align: top;\n",
       "    }\n",
       "\n",
       "    .dataframe thead th {\n",
       "        text-align: right;\n",
       "    }\n",
       "</style>\n",
       "<table border=\"1\" class=\"dataframe\">\n",
       "  <thead>\n",
       "    <tr style=\"text-align: right;\">\n",
       "      <th></th>\n",
       "      <th>City</th>\n",
       "      <th>Temp</th>\n",
       "    </tr>\n",
       "  </thead>\n",
       "  <tbody>\n",
       "    <tr>\n",
       "      <td>1</td>\n",
       "      <td>Chicago</td>\n",
       "      <td>29</td>\n",
       "    </tr>\n",
       "  </tbody>\n",
       "</table>\n",
       "</div>"
      ],
      "text/plain": [
       "      City  Temp\n",
       "1  Chicago    29"
      ]
     },
     "execution_count": 34,
     "metadata": {},
     "output_type": "execute_result"
    }
   ],
   "source": [
    "onlyInner3(df1, df2, 'City')"
   ]
  },
  {
   "cell_type": "markdown",
   "metadata": {},
   "source": [
    "### Find Common Rows Between Two Dataframes Using Concat Function\n",
    "The concat function concatenate second dataframe(df2) below the first dataframe(df1) along a particular axis with optional set logic along the other axes. So here we are concating the two dataframes and then grouping on all the columns and find rows which have count greater than 1 because those are the rows common to both the dataframes. here is code snippet:"
   ]
  },
  {
   "cell_type": "code",
   "execution_count": 148,
   "metadata": {},
   "outputs": [
    {
     "data": {
      "text/html": [
       "<div>\n",
       "<style scoped>\n",
       "    .dataframe tbody tr th:only-of-type {\n",
       "        vertical-align: middle;\n",
       "    }\n",
       "\n",
       "    .dataframe tbody tr th {\n",
       "        vertical-align: top;\n",
       "    }\n",
       "\n",
       "    .dataframe thead th {\n",
       "        text-align: right;\n",
       "    }\n",
       "</style>\n",
       "<table border=\"1\" class=\"dataframe\">\n",
       "  <thead>\n",
       "    <tr style=\"text-align: right;\">\n",
       "      <th></th>\n",
       "      <th>City</th>\n",
       "      <th>Temp</th>\n",
       "    </tr>\n",
       "  </thead>\n",
       "  <tbody>\n",
       "    <tr>\n",
       "      <td>3</td>\n",
       "      <td>Paris</td>\n",
       "      <td>56</td>\n",
       "    </tr>\n",
       "    <tr>\n",
       "      <td>2</td>\n",
       "      <td>Tokyo</td>\n",
       "      <td>73</td>\n",
       "    </tr>\n",
       "  </tbody>\n",
       "</table>\n",
       "</div>"
      ],
      "text/plain": [
       "    City  Temp\n",
       "3  Paris    56\n",
       "2  Tokyo    73"
      ]
     },
     "execution_count": 148,
     "metadata": {},
     "output_type": "execute_result"
    }
   ],
   "source": [
    "df = pd.concat([df1, df2])\n",
    "\n",
    "df = df.reset_index(drop=True)\n",
    "\n",
    "df_gpby = df.groupby(list(df.columns))\n",
    "\n",
    "idx = [x[0] for x in df_gpby.groups.values() if len(x) != 1]\n",
    "df.reindex(idx)"
   ]
  },
  {
   "cell_type": "markdown",
   "metadata": {},
   "source": [
    "### Find Rows in DF1 Which Are Not Available in DF2\n",
    "We will see how to get all the rows in dataframe(df1) which are not available in dataframe(df2). We can use the same merge function as used above only the parameter indicator is set to true, which adds a column to output DataFrame called “_merge” with information on the source of each row. If string, column with information on source of each row will be added to output DataFrame, and column will be named value of string. Information column is Categorical-type and takes on a value of “left_only” for observations whose merge key only appears in ‘left’ DataFrame, “right_only” for observations whose merge key only appears in ‘right’ DataFrame, and “both” if the observation’s merge key is found in both"
   ]
  },
  {
   "cell_type": "code",
   "execution_count": 151,
   "metadata": {},
   "outputs": [
    {
     "data": {
      "text/html": [
       "<div>\n",
       "<style scoped>\n",
       "    .dataframe tbody tr th:only-of-type {\n",
       "        vertical-align: middle;\n",
       "    }\n",
       "\n",
       "    .dataframe tbody tr th {\n",
       "        vertical-align: top;\n",
       "    }\n",
       "\n",
       "    .dataframe thead th {\n",
       "        text-align: right;\n",
       "    }\n",
       "</style>\n",
       "<table border=\"1\" class=\"dataframe\">\n",
       "  <thead>\n",
       "    <tr style=\"text-align: right;\">\n",
       "      <th></th>\n",
       "      <th>City</th>\n",
       "      <th>Temp</th>\n",
       "    </tr>\n",
       "  </thead>\n",
       "  <tbody>\n",
       "    <tr>\n",
       "      <td>0</td>\n",
       "      <td>New York</td>\n",
       "      <td>59</td>\n",
       "    </tr>\n",
       "    <tr>\n",
       "      <td>1</td>\n",
       "      <td>Chicago</td>\n",
       "      <td>29</td>\n",
       "    </tr>\n",
       "    <tr>\n",
       "      <td>4</td>\n",
       "      <td>New Delhi</td>\n",
       "      <td>48</td>\n",
       "    </tr>\n",
       "  </tbody>\n",
       "</table>\n",
       "</div>"
      ],
      "text/plain": [
       "        City  Temp\n",
       "0   New York    59\n",
       "1    Chicago    29\n",
       "4  New Delhi    48"
      ]
     },
     "execution_count": 151,
     "metadata": {},
     "output_type": "execute_result"
    }
   ],
   "source": [
    "df = df1.merge(df2, how = 'outer' ,indicator=True).loc[lambda x : x['_merge']=='left_only']\n",
    "df = df[df1.columns]\n",
    "df"
   ]
  },
  {
   "cell_type": "code",
   "execution_count": 154,
   "metadata": {},
   "outputs": [],
   "source": [
    "def filtab(df, dbtab):    \n",
    "    if (isinstance(df, bool)==False)\\\n",
    "        and (isinstance(dbtab, str)==False):\n",
    "        try:\n",
    "            diff = df.merge(dbtab, how = 'outer',indicator=True\n",
    "                ).loc[lambda x : x['_merge']=='left_only']\n",
    "            diff = diff[df.columns]\n",
    "        except:\n",
    "            return False\n",
    "        else:\n",
    "            return diff        \n",
    "    else:\n",
    "        return False"
   ]
  },
  {
   "cell_type": "code",
   "execution_count": 155,
   "metadata": {},
   "outputs": [
    {
     "data": {
      "text/html": [
       "<div>\n",
       "<style scoped>\n",
       "    .dataframe tbody tr th:only-of-type {\n",
       "        vertical-align: middle;\n",
       "    }\n",
       "\n",
       "    .dataframe tbody tr th {\n",
       "        vertical-align: top;\n",
       "    }\n",
       "\n",
       "    .dataframe thead th {\n",
       "        text-align: right;\n",
       "    }\n",
       "</style>\n",
       "<table border=\"1\" class=\"dataframe\">\n",
       "  <thead>\n",
       "    <tr style=\"text-align: right;\">\n",
       "      <th></th>\n",
       "      <th>City</th>\n",
       "      <th>Temp</th>\n",
       "    </tr>\n",
       "  </thead>\n",
       "  <tbody>\n",
       "    <tr>\n",
       "      <td>0</td>\n",
       "      <td>New York</td>\n",
       "      <td>59</td>\n",
       "    </tr>\n",
       "    <tr>\n",
       "      <td>1</td>\n",
       "      <td>Chicago</td>\n",
       "      <td>29</td>\n",
       "    </tr>\n",
       "    <tr>\n",
       "      <td>4</td>\n",
       "      <td>New Delhi</td>\n",
       "      <td>48</td>\n",
       "    </tr>\n",
       "  </tbody>\n",
       "</table>\n",
       "</div>"
      ],
      "text/plain": [
       "        City  Temp\n",
       "0   New York    59\n",
       "1    Chicago    29\n",
       "4  New Delhi    48"
      ]
     },
     "execution_count": 155,
     "metadata": {},
     "output_type": "execute_result"
    }
   ],
   "source": [
    "filtab(df1, df2)"
   ]
  },
  {
   "cell_type": "markdown",
   "metadata": {},
   "source": [
    "## Backup"
   ]
  },
  {
   "cell_type": "code",
   "execution_count": 186,
   "metadata": {},
   "outputs": [],
   "source": [
    "errors = []\n",
    "tdy = date.today()\n",
    "y = tdy.strftime(\"%Y\")\n",
    "m = tdy.strftime(\"%B\")\n",
    "d = tdy.strftime(\"%d\")\n",
    "db_name = 'DashProjDB_'+y+'_'+m+'_'+d+'.db'        \n",
    "shutil.copy(dbpath, path_4)\n",
    "path_old = path_4+'DashProjDB.db'\n",
    "path_new = path_4 + db_name\n",
    "os.rename(r''+path_old,r''+path_new)\n",
    "errors.append('Section-5: DB was successfully backed up!')"
   ]
  },
  {
   "cell_type": "code",
   "execution_count": 187,
   "metadata": {},
   "outputs": [],
   "source": [
    "def backupDb(path_4, dbpath): \n",
    "    errors = []\n",
    "    try:\n",
    "        tdy = date.today()\n",
    "        y = tdy.strftime(\"%Y\")\n",
    "        m = tdy.strftime(\"%B\")\n",
    "        d = tdy.strftime(\"%d\")\n",
    "        db_name = 'DashProjDB_'+y+'_'+m+'_'+d+'.db'        \n",
    "        shutil.copy(dbpath, path_4)\n",
    "        path_old = path_4+'DashProjDB.db'\n",
    "        path_new = path_4 + db_name\n",
    "        os.rename(r''+path_old,r''+path_new)\n",
    "        errors.append('Section-5: DB was successfully backed up!')\n",
    "    except:        \n",
    "        errors.append('Section-5: DB is not backed up because the path'\n",
    "                     +' is wrong!')\n",
    "    return errors"
   ]
  },
  {
   "cell_type": "code",
   "execution_count": 188,
   "metadata": {},
   "outputs": [],
   "source": [
    "import os\n",
    "import shutil\n",
    "from datetime import date,timedelta\n",
    "cpath = \"/home/alem/Desktop/dash/\"\n",
    "path_4 = os.path.join(cpath,\"DB_Backups/\")\n",
    "dbpath = os.path.join(cpath,\"py_and_db/DashProjDB.db\")"
   ]
  },
  {
   "cell_type": "code",
   "execution_count": 189,
   "metadata": {},
   "outputs": [
    {
     "data": {
      "text/plain": [
       "['Section-5: DB was successfully backed up!']"
      ]
     },
     "execution_count": 189,
     "metadata": {},
     "output_type": "execute_result"
    }
   ],
   "source": [
    "backupDb(path_4, dbpath)"
   ]
  },
  {
   "cell_type": "code",
   "execution_count": null,
   "metadata": {},
   "outputs": [],
   "source": []
  }
 ],
 "metadata": {
  "kernelspec": {
   "display_name": "Python 3",
   "language": "python",
   "name": "python3"
  },
  "language_info": {
   "codemirror_mode": {
    "name": "ipython",
    "version": 3
   },
   "file_extension": ".py",
   "mimetype": "text/x-python",
   "name": "python",
   "nbconvert_exporter": "python",
   "pygments_lexer": "ipython3",
   "version": "3.7.6"
  }
 },
 "nbformat": 4,
 "nbformat_minor": 4
}
