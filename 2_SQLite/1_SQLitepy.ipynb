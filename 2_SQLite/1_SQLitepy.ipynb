{
 "cells": [
  {
   "cell_type": "markdown",
   "metadata": {},
   "source": [
    "# SQLite for Python\n",
    "   Compiled by: Alem H Fitwi, GA-Data Analyst and PhD Student\n",
    "   \n",
    "   Reserach Areas:        \n",
    "        <ul>\n",
    "            <li>Privacy,</li>\n",
    "            <li>Deep Learning,</li>\n",
    "            <li>Networking (Edge Computing),</li>\n",
    "            <li>IoD, and Mechanical Surveillance Systems</li>    \n",
    "         </ul>\n",
    "    Binghamton University-State University of New York\n",
    "    \n",
    "                        December, 2017 "
   ]
  },
  {
   "cell_type": "markdown",
   "metadata": {},
   "source": [
    "# <font color='green'>Section 0: Background Info</font>"
   ]
  },
  {
   "cell_type": "markdown",
   "metadata": {},
   "source": [
    "The main difference between the **mysql community edition** and the **msql enterprise edition** is added support and tools. The server itself is the same, but the enterprise edition gets updated more frequently and it is stable with quick bug fix support. It would be safe and will not make any problem if you decide to move on to ORACLE in future.\n",
    "\n",
    "***MySQL Enterprise subscriptions include:***\n",
    "- MySQL Enterprise Server which is the most reliable, secure and up-to-date version of the world’s most popular open source database\n",
    "- The MySQL Enterprise Monitor provides monitoring and automated Ad visors to help you eliminate security vulnerabilities, improve replication, optimize performance, and more\n",
    "- MySQL Technical Support enables you to get your toughest technical questions answered quickly.\n",
    "- MySQL Consultative Support, available with MySQL Enterprise Platinum gives you tailored advise from the MySQL Support team on how to properly design and tune your MySQL servers, schema, queries, and replication set-up for better performance.\n",
    "- Another advantage of MySQL Enterprise edition over Community edition is it provides the MySQL Thread Pool. The Thread Pool provides a highly scalable, queue-based thread-handling model designed to reduce overhead in managing client connections and statement execution threads.\n",
    "\n",
    "***MySQL Community Server:***\n",
    "- Freely available under the open source GPL license\n",
    "- In a MyISAM table with dynamic (variable length) rows, the index file for the table (tablename.MYI) stores row locations using 32-bit pointers into the data file (tablename.MYD). That means it can address only 4GB of space.\n",
    "\n",
    "***SQLITE***\n",
    "- SQLite is a software library that implements a self-contained, serverless, zero-configuration, transactional SQL database engine. \n",
    "- SQLite is a C-language library that implements a small, fast, self-contained, high-reliability, full-featured, SQL database engine. SQLite is the most used database engine in the world. SQLite is built into all mobile phones and most computers and comes bundled inside countless other applications that people use every day.\n",
    "-  The SQLite file format is stable, cross-platform, and backwards compatible and the developers pledge to keep it that way through at least the year 2050. SQLite database files are commonly used as containers to transfer rich content between systems and as a long-term archival format for data. There are over 1 trillion (1e12) SQLite databases in active use.\n",
    "- SQLite source code is in the public-domain and is free to everyone to use for any purpose. "
   ]
  },
  {
   "cell_type": "markdown",
   "metadata": {},
   "source": [
    "**SQLite Introduction**\n",
    "![](sqlite.jpg)\n",
    "\n",
    "SQL (Structured Query Language) is a special programming language that is designed for handling and managing data held in a Relation database management system (RDBMS).  \n",
    "\n",
    "As the name suggest, SQLite is a lightest version of SQL. It does not require any Server, No configuration. \n",
    "\n",
    "In the simplest terms, SQLite is a public-domain software package that provides a relational database management system, or RDBMS. \n",
    "\n",
    "The “Lite” in SQLite does not refer to its capabilities. Rather, SQLite is lightweight when it comes to setup complexity, administrative overhead, and resource usage.\n",
    "\n",
    "**Overview of SQLite**\n",
    "\n",
    "SQLite is an open source embedded relational database management system or RDBMS contained in a C programming library. Relational database systems are used to store data in large tables. \n",
    "\n",
    "In contrast to other popular RDBMS products like Oracle Database, IBM’s DB2, and Microsoft’s SQL Server, SQLite does not require any administrative overhead or any setup complexity. \n",
    "\n",
    "As the other databases are working as a standalone process, SQLite is a not working as a standalone process. You have to link it with your application statically or dynamically.\n",
    "\n",
    "SQLite uses dynamically and weakly typed SQL for column. It means you can store any value in any column, regardless of the data type. SQLite implements most of the SQL92 standard. \n",
    "\n",
    "**Features of SQLite** \n",
    "\n",
    "Server less: SQLite does not require a separate server process or system to operate. The SQLite library accesses its storage files directly. \n",
    "\n",
    "Zero Configuration: No server means no setup. Creating a SQLite database instance is as easy as opening a file. \n",
    "\n",
    "Cross-Platform: A complete SQLite database is stored in a single cross-platform disk file, requiring no administration. \n",
    "\n",
    "Self-Contained: A single library contains the entire database system, which integrates directly into a host application. \n",
    "\n",
    "Transactional: SQLite transactions are fully ACID-compliant means all queries are Atomic, Consistent, Isolated, and Durable. \n",
    "\n",
    "Light-weight: As the name suggests “Lite”, SQLite is very small and light weight. \n",
    "\n",
    "Familiar language: Familiar query language for database developers and admins. \n",
    "\n",
    "Highly Reliable: The SQLite development team takes code testing and verification very seriously.\n",
    "\n",
    "**Weakness of SQLite**\n",
    "Following are the drawbacks of SQLite database.\n",
    "- SQLite not works well in client/server Architecture.\n",
    "- If you are using SQLite as backend for High-volume website, SQLite does not works fine as compared to enterprise client/server database.\n",
    "- A SQLite database is limited in size to 140 terabytes (TB). SQLite stores the whole database in Single Disk File. Many file systems not allow these much size of file.\n",
    "- SQLite has not Implemented RIGHT OUTER JOIN and FULL OUTER JOIN. With SQLite we can only implement LEFT OUTER JOIN.\n",
    "- It is not possible to rename a column, remove a column, or add / remove constraints from a table in SQLite. While you can always create a new table and then drop the older one.\n",
    "- Views in SQLite are read-only. We can’t use DML statements (Insert, Update, and Delete) with Views.\n",
    "- We cannot use GRANT and REVOKE statement with SQLite.\n",
    "\n",
    "These are the features, advantages and disadvantages of using SQLite in our applications."
   ]
  },
  {
   "cell_type": "markdown",
   "metadata": {},
   "source": [
    "# <font color='green'>Section 1: Installation</font>"
   ]
  },
  {
   "cell_type": "markdown",
   "metadata": {},
   "source": [
    "- Install python 3.7.x\n",
    "    - download it from https://www.anaconda.com/\n",
    "    - bash ---.sh\n",
    "- Install text editor: sublime text ()\n",
    "    - sudo apt update\n",
    "    - sudo apt install sublime-text\n",
    "- Install Git Bash: \n",
    "    - apt-get install git-core"
   ]
  },
  {
   "cell_type": "markdown",
   "metadata": {},
   "source": [
    "\n",
    "# <font color='green'>Section 2: Basic SQLite tutorial</font>\n",
    "https://www.sqlitetutorial.net/"
   ]
  },
  {
   "cell_type": "markdown",
   "metadata": {},
   "source": [
    "**Section 1. Simple query**\n",
    "- Select – query data from a single table using SELECT statement.\n",
    "\n",
    "**Section 2. Sorting rows**\n",
    "- Order By – sort the result set in ascending or descending order.\n",
    "\n",
    "**Section 3. Filtering data**\n",
    "- Select Distinct – query unique rows from a table using the DISTINCT clause.\n",
    "- Where  – filter rows of a result set using various conditions.\n",
    "- Limit – constrain the number of rows that you want to return. The LIMIT clause helps you get the necessary data returned by a query.\n",
    "- Between – test whether a value is in a range of values.\n",
    "- In – check if a value matches any value in a list of value or subquery.\n",
    "- Like – query data based on pattern matching using wildcard characters: percent sign (%) and underscore (_).\n",
    "- Glob – determine whether a string matches a specific UNIX-pattern.\n",
    "- IS NULL – check if a value is null or not.\n",
    "\n",
    "**Section 4. Joining tables**\n",
    "- SQLite join – learn the overview of joins including inner join, left join, and cross join.\n",
    "- Inner Join – query data from multiple tables using inner join clause.\n",
    "- Left Join – combine data from multiple tables using left join clause.\n",
    "- Cross Join – show you how to use the cross join clause to produce a cartesian product of result sets of the tables involved in the join.\n",
    "- Self Join – join a table to itself to create a result set that joins rows with other rows within the same table.\n",
    "- Full Outer Join – show you how to emulate the full outer join in the SQLite using left join and union clauses.\n",
    "\n",
    "**Section 5. Grouping data**\n",
    "- Group By – combine a set of rows into groups based on specified criteria. The GROUP BY clause helps you summarize data for reporting purposes.\n",
    "- Having – specify the conditions to filter the groups summarized by the GROUP BY clause.\n",
    "\n",
    "**Section 6. Set operators**\n",
    "- Union – combine result sets of multiple queries into a single result set. We also discuss the differences between UNION and UNION ALL clauses.\n",
    "- Except – compare the result sets of two queries and returns distinct rows from the left query that are not output by the right query.\n",
    "- Intersect – compare the result sets of two queries and returns distinct rows that are output by both queries.\n",
    "\n",
    "**Section 7. Subquery**\n",
    "- Subquery – introduce you to the SQLite subquery and correlated subquery.\n",
    "- Exists operator – test for the existence of rows returned by a subquery.\n",
    "\n",
    "**Section 8. More querying techniques**\n",
    "- Case – add conditional logic to the query.\n",
    "\n",
    "**Section 9. Changing data**:\n",
    "This section guides you on how to update data in the table using insert, update, and delete statements.\n",
    "- Insert – insert rows into a table\n",
    "- Update – update existing rows in a table.\n",
    "- Delete – delete rows from a table.\n",
    "- Replace – insert a new row or replace the existing row in a table.\n",
    "\n",
    "**Section 10. Transactions**\n",
    "- Transaction – show you how to handle transactions.\n",
    "\n",
    "**Section 11. Data definition**:\n",
    "In this section, we show you how to create database objects such as tables, views, indexes using SQL data definition language.\n",
    "\n",
    "- SQLite Data Types – introduce you to the SQLite dynamic types system and its important concepts: storage classes, manifest typing, and type affinity.\n",
    "- Create Table – show you how to create a new table in the database.\n",
    "- Primary Key – show you how to define the primary key for a table.\n",
    "- NOT NULL constraint – ensure values in a column are not NULL.\n",
    "- UNIQUE constraint – ensure values in a column or a group of columns are unique.\n",
    "- CHECK constraint – ensure the values in a column meet a specified condition defined by an expression.\n",
    "- AUTOINCREMENT – explain how the attribute AUTOINCREMENT works and why you should avoid using it.\n",
    "- Alter Table – show you how to use modify the structure of an existing table.\n",
    "- Rename column – learn step by step how to rename a column of a table.\n",
    "- Drop Table – guide you on how to remove a table from the database.\n",
    "- VACUUM – show you how to optimize database file.\n",
    "\n",
    "**Section 12. Views**\n",
    "- Create View – introduce you to the view concept and show you how to create a new view in the database.\n",
    "- Drop View – show you how to drop a view from its database schema.\n",
    "\n",
    "**Section 13. Indexes**\n",
    "- Index – teach you about the index and how to utilize indexes to speed up your queries.\n",
    "- Index for Expressions – show you how to use the expression-based index.\n",
    "\n",
    "**Section 14. Triggers**\n",
    "- Trigger – manage triggers in SQLite database.\n",
    "- INSTEAD OF triggers – learn about INSTEAD OF triggers and how to create an INSTEAD OF trigger to update data via a view.\n",
    "\n",
    "**Section 15. Full-text search**\n",
    "-Full-text search – get started with the full-text search in SQLite.\n",
    "\n",
    "**Section 16. SQLite tools**\n",
    "- SQLite Commands – show you the most commonly used command in sqlite3 program.\n",
    "- SQLite Show Tables – list all tables in a database.\n",
    "- SQLite Describe Table – show the structure of a table.\n",
    "- SQLite Dump – how to use dump command to backup and restore a database.\n",
    "- SQLite Import CSV – how to import CSV file into a table.\n",
    "- SQLite Export CSV – how to export an SQLite database to CSV files.\n",
    "\n",
    "**SQLite Functions**\n",
    "- ***SQLite Aggregate Functions***:This tutorial shows you how to use the SQLite aggregate functions to find the maximum, minimum, average, sum, and count of a set of values.\n",
    "- ***SQLite Date Functions***:This section provides you with SQLite date and time functions that help you manipulate datetime data effectively.\n",
    "- ***SQLite String Functions***:This section shows the most commonly used SQLite string functions that help you manipulate character string data effectively.\n",
    "- ***SQLite Window Functions***: SQLite window functions perform a calculation on a set of rows that are related to the current row. Unlike aggregate functions, window functions do not cause rows to become grouped into a single result row."
   ]
  },
  {
   "cell_type": "markdown",
   "metadata": {},
   "source": [
    "# <font color='green'>Section 3: Using SQLite With Python</font>"
   ]
  },
  {
   "cell_type": "markdown",
   "metadata": {},
   "source": [
    "## <font color='green'>Create SQLite Connection</font>"
   ]
  },
  {
   "cell_type": "code",
   "execution_count": 1,
   "metadata": {},
   "outputs": [],
   "source": [
    "# SQLite is installed with py by default\n",
    "import sqlite3\n",
    "con=sqlite3.connect('customer.db') #create db connection and name\n",
    "#git bash on windows to open terminal"
   ]
  },
  {
   "cell_type": "code",
   "execution_count": 2,
   "metadata": {},
   "outputs": [],
   "source": [
    "# A DB that appears when you program is running but disappears when\n",
    " # your pm stops is created as ensues in memory\n",
    "con=sqlite3.connect(':memory:') #if u have db in memory but volatile"
   ]
  },
  {
   "cell_type": "code",
   "execution_count": 3,
   "metadata": {},
   "outputs": [
    {
     "name": "stdout",
     "output_type": "stream",
     "text": [
      "Conn is established: Database is created in memory\n"
     ]
    }
   ],
   "source": [
    "#https://likegeeks.com/python-sqlite3-tutorial/\n",
    "import sqlite3\n",
    "from sqlite3 import Error\n",
    "def sql_connection():\n",
    "    try:\n",
    "        con = sqlite3.connect(':memory:')\n",
    "        print(\"Conn is established: Database is created in memory\")\n",
    "    except Error:\n",
    "        print(Error)\n",
    "    finally:\n",
    "        con.close()\n",
    "sql_connection()"
   ]
  },
  {
   "cell_type": "code",
   "execution_count": 4,
   "metadata": {},
   "outputs": [
    {
     "data": {
      "text/plain": [
       "['DashProjDB.db', 'customer.db']"
      ]
     },
     "execution_count": 4,
     "metadata": {},
     "output_type": "execute_result"
    }
   ],
   "source": [
    "#check if created\n",
    "import glob\n",
    "db=glob.glob(\"*.db\")\n",
    "db"
   ]
  },
  {
   "cell_type": "code",
   "execution_count": 3,
   "metadata": {},
   "outputs": [
    {
     "data": {
      "text/plain": [
       "['customer.db',\n",
       " 'sqlite.jpg',\n",
       " 'mySQLCMDs.docx',\n",
       " 'db.png',\n",
       " 'sqlitepy.ipynb',\n",
       " '.ipynb_checkpoints']"
      ]
     },
     "execution_count": 3,
     "metadata": {},
     "output_type": "execute_result"
    }
   ],
   "source": [
    "# Using OS\n",
    "import os\n",
    "db=os.listdir('./')\n",
    "db"
   ]
  },
  {
   "cell_type": "markdown",
   "metadata": {},
   "source": [
    "## <font color='green'>6. Create A Database Table</font>"
   ]
  },
  {
   "cell_type": "markdown",
   "metadata": {},
   "source": [
    "A database is an organized collection of data, generally stored and accessed electronically from a computer system. Where databases are more complex they are often developed using formal design and modeling techniques. Querying a database means querying a table. It is made up of one or multiple tables. **Table** is the most important thing of a database."
   ]
  },
  {
   "cell_type": "code",
   "execution_count": 5,
   "metadata": {},
   "outputs": [],
   "source": [
    "import sqlite3\n",
    "#Create a connection\n",
    "conn = sqlite3.connect('customer.db')\n",
    "#Create a cursor\n",
    "c=conn.cursor()\n",
    "#Create a table using the docString for multiple lines\n",
    "                      #\"\" for a single line\n",
    "c.execute(\"\"\"CREATE TABLE customerss(\n",
    "              first_name text, last_name text, email text)\"\"\")\n",
    "#sqlite has 5 datatypes: Null, Integer, Real, Text, & Blob (as it is)\n",
    "\n",
    "#Commit\n",
    "conn.commit()\n",
    "\n",
    "# Everytime you open a connection, you have to close it\n",
    "conn.close()"
   ]
  },
  {
   "cell_type": "markdown",
   "metadata": {},
   "source": [
    "## <font color='green'>Insert One Record into the Table</font>"
   ]
  },
  {
   "cell_type": "code",
   "execution_count": 6,
   "metadata": {},
   "outputs": [],
   "source": [
    "import sqlite3\n",
    "#Create a connection\n",
    "conn = sqlite3.connect('customer.db')\n",
    "#Create a cursor\n",
    "c=conn.cursor()\n",
    "#Create a table \n",
    "c.execute(\"INSERT or IGNORE INTO customers VALUES('Alem','Fitwi','ahf@a.com')\")\n",
    "#Commit\n",
    "conn.commit()\n",
    "\n",
    "# close connection\n",
    "conn.close()"
   ]
  },
  {
   "cell_type": "code",
   "execution_count": 12,
   "metadata": {},
   "outputs": [
    {
     "name": "stdout",
     "output_type": "stream",
     "text": [
      "   col1  col2\n",
      "0     1     4\n",
      "1     2     5\n",
      "2     3     6\n"
     ]
    }
   ],
   "source": [
    "import pandas as pd\n",
    "df = pd.DataFrame({'col1': [1, 2, 3], 'col2': [4, 5, 6]})\n",
    "\n",
    "print(df)"
   ]
  },
  {
   "cell_type": "code",
   "execution_count": 13,
   "metadata": {},
   "outputs": [
    {
     "name": "stdout",
     "output_type": "stream",
     "text": [
      "[(1, 4), (2, 5), (3, 6)]\n"
     ]
    }
   ],
   "source": [
    "records = df.to_records(index=False)\n",
    "\n",
    "result = list(records)\n",
    "\n",
    "print(result)"
   ]
  },
  {
   "cell_type": "markdown",
   "metadata": {},
   "source": [
    "## <font color='green'>Insert Multiple Records into the Table</font>"
   ]
  },
  {
   "cell_type": "code",
   "execution_count": 9,
   "metadata": {},
   "outputs": [],
   "source": [
    "import sqlite3\n",
    "#Create a connection\n",
    "conn = sqlite3.connect('customer.db')\n",
    "#Create a cursor\n",
    "c=conn.cursor()\n",
    "#Create a table --> ?,?,? are placeholders\n",
    "mult_lst=[('Wes','Brown','brown@w.com'),\n",
    "          ('Steve','Wan','wan@s.com'),\n",
    "          ('Keven','Brown','brown@k.com')]\n",
    "c.executemany(\"INSERT or IGNORE INTO customers VALUES(?,?,?)\", mult_lst)\n",
    "#Commit\n",
    "conn.commit()\n",
    "# close connection\n",
    "conn.close()"
   ]
  },
  {
   "cell_type": "markdown",
   "metadata": {},
   "source": [
    "## <font color='green'>Query and Fetchall</font>"
   ]
  },
  {
   "cell_type": "code",
   "execution_count": 11,
   "metadata": {},
   "outputs": [],
   "source": [
    "import sqlite3\n",
    "#Create a connection\n",
    "conn = sqlite3.connect('customer.db')\n",
    "#Create a cursor\n",
    "c=conn.cursor()\n",
    "#Query the last record from a table in the DB\n",
    "c.execute(\"SELECT * FROM customers\")\n",
    "c.fetchone()\n",
    "# close connection\n",
    "conn.close()"
   ]
  },
  {
   "cell_type": "code",
   "execution_count": 12,
   "metadata": {},
   "outputs": [],
   "source": [
    "import sqlite3\n",
    "#Create a connection\n",
    "conn = sqlite3.connect('customer.db')\n",
    "#Create a cursor\n",
    "c=conn.cursor()\n",
    "#Query n records from a table in the DB\n",
    "c.execute(\"SELECT * FROM customers\")\n",
    "c.fetchmany(3)\n",
    "# close connection\n",
    "conn.close()"
   ]
  },
  {
   "cell_type": "code",
   "execution_count": 13,
   "metadata": {},
   "outputs": [],
   "source": [
    "import sqlite3\n",
    "#Create a connection\n",
    "conn = sqlite3.connect('customer.db')\n",
    "#Create a cursor\n",
    "c=conn.cursor()\n",
    "#Query all records from a table in the DB\n",
    "c.execute(\"SELECT * FROM customers\")\n",
    "c.fetchall()\n",
    "# close connection\n",
    "conn.close()"
   ]
  },
  {
   "cell_type": "markdown",
   "metadata": {},
   "source": [
    "## <font color='green'>Format Results</font>"
   ]
  },
  {
   "cell_type": "code",
   "execution_count": 10,
   "metadata": {},
   "outputs": [
    {
     "name": "stdout",
     "output_type": "stream",
     "text": [
      "[('Alem', 'Fitwi', 'ahf@a.com'), ('Wes', 'Brown', 'brown@w.com'), ('Keven', 'Brown', 'brown@k.com'), ('Feven', 'Gerlase', 'feven@g.com'), ('Bob', 'Mar', 'Mar@b.yahoo'), ('Marry', 'Ball', 'ball@m.yahoo'), ('Amman', 'Fitwi', 'fitwi@a.yahoo'), ('Alem', 'Fitwi', 'ahf@a.com'), ('Wes', 'Brown', 'brown@w.com'), ('Steve', 'Wan', 'wan@s.com'), ('Keven', 'Brown', 'brown@k.com'), ('Alem', 'Fitwi', 'ahf@a.com'), ('Alem', 'Fitwi', 'ahf@a.com'), ('Wes', 'Brown', 'brown@w.com'), ('Steve', 'Wan', 'wan@s.com'), ('Keven', 'Brown', 'brown@k.com'), ('Wes', 'Brown', 'brown@w.com'), ('Steve', 'Wan', 'wan@s.com'), ('Keven', 'Brown', 'brown@k.com')]\n"
     ]
    }
   ],
   "source": [
    "import sqlite3\n",
    "#Create a connection\n",
    "conn = sqlite3.connect('customer.db')\n",
    "#Create a cursor\n",
    "c=conn.cursor()\n",
    "#Query all records from a table in the DB\n",
    "c.execute(\"SELECT * FROM customers\")\n",
    "items=c.fetchall()\n",
    "# close connection\n",
    "conn.close()\n",
    "print(items)"
   ]
  },
  {
   "cell_type": "code",
   "execution_count": null,
   "metadata": {},
   "outputs": [],
   "source": [
    "print(items[0])"
   ]
  },
  {
   "cell_type": "code",
   "execution_count": null,
   "metadata": {},
   "outputs": [],
   "source": [
    "for item in items:\n",
    "    print(item)"
   ]
  },
  {
   "cell_type": "code",
   "execution_count": null,
   "metadata": {},
   "outputs": [],
   "source": [
    "for item in items:\n",
    "    print(item[0])"
   ]
  },
  {
   "cell_type": "code",
   "execution_count": null,
   "metadata": {},
   "outputs": [],
   "source": [
    "print(\"Name     \"+\"\\t\\tEmail\")\n",
    "print(\"---------\"+\"\\t\\t---------\")\n",
    "for item in items:\n",
    "    print(item[0]+\" \"+item[1]+\"\\t\\t\"+item[2])"
   ]
  },
  {
   "cell_type": "markdown",
   "metadata": {},
   "source": [
    "## <font color='green'>Primary Key ID (rowid)</font>\n",
    "A unique ID number that each record in a table gets. It gets increment for every update automatically.\n",
    "- Field=column=variable\n",
    "- Record=row=observatin"
   ]
  },
  {
   "cell_type": "code",
   "execution_count": 1,
   "metadata": {},
   "outputs": [
    {
     "name": "stdout",
     "output_type": "stream",
     "text": [
      "(1, 'Alem', 'Fitwi', 'ahf@a.com')\n",
      "(2, 'Wes', 'Brown', 'brown@w.com')\n",
      "(4, 'Keven', 'Brown', 'brown@k.com')\n",
      "(5, 'Feven', 'Gerlase', 'feven@g.com')\n",
      "(6, 'Bob', 'Mar', 'Mar@b.yahoo')\n",
      "(7, 'Marry', 'Ball', 'ball@m.yahoo')\n",
      "(8, 'Amman', 'Fitwi', 'fitwi@a.yahoo')\n"
     ]
    }
   ],
   "source": [
    "import sqlite3\n",
    "#Create a connection\n",
    "conn = sqlite3.connect('customer.db')\n",
    "#Create a cursor\n",
    "c=conn.cursor()\n",
    "#Query all records from a table in the DB\n",
    "c.execute(\"SELECT rowid, * FROM customers\")\n",
    "items=c.fetchall()\n",
    "# close connection\n",
    "conn.close()\n",
    "\n",
    "for item in items:\n",
    "    print(item)"
   ]
  },
  {
   "cell_type": "markdown",
   "metadata": {},
   "source": [
    "## <font color='green'>The Where Clause</font>"
   ]
  },
  {
   "cell_type": "code",
   "execution_count": 2,
   "metadata": {},
   "outputs": [
    {
     "name": "stdout",
     "output_type": "stream",
     "text": [
      "('Alem', 'Fitwi', 'ahf@a.com')\n",
      "('Amman', 'Fitwi', 'fitwi@a.yahoo')\n"
     ]
    }
   ],
   "source": [
    "import sqlite3\n",
    "#Create a connection\n",
    "conn = sqlite3.connect('customer.db')\n",
    "#Create a cursor\n",
    "c=conn.cursor()\n",
    "#Query all records from a table in the DB\n",
    "c.execute(\"SELECT * FROM customers WHERE last_name='Fitwi'\")\n",
    "items=c.fetchall()\n",
    "# close connection\n",
    "conn.close()\n",
    "\n",
    "for item in items:\n",
    "    print(item)"
   ]
  },
  {
   "cell_type": "code",
   "execution_count": null,
   "metadata": {},
   "outputs": [],
   "source": [
    "import sqlite3\n",
    "#Create a connection\n",
    "conn = sqlite3.connect('customer.db')\n",
    "#Create a cursor\n",
    "c=conn.cursor()\n",
    "#Query all records from a table in the DB\n",
    "c.execute(\"SELECT * FROM customers WHERE last_name LIKE 'F%'\")\n",
    "items=c.fetchall()\n",
    "# close connection\n",
    "conn.close()\n",
    "\n",
    "for item in items:\n",
    "    print(item)"
   ]
  },
  {
   "cell_type": "code",
   "execution_count": null,
   "metadata": {},
   "outputs": [],
   "source": [
    "import sqlite3\n",
    "#Create a connection\n",
    "conn = sqlite3.connect('customer.db')\n",
    "#Create a cursor\n",
    "c=conn.cursor()\n",
    "#Query all records from a table in the DB\n",
    "c.execute(\"SELECT * FROM customers WHERE email LIKE '%com'\")\n",
    "items=c.fetchall()\n",
    "# close connection\n",
    "conn.close()\n",
    "\n",
    "for item in items:\n",
    "    print(item)"
   ]
  },
  {
   "cell_type": "markdown",
   "metadata": {},
   "source": [
    "## <font color='green'>Update Records</font>"
   ]
  },
  {
   "cell_type": "code",
   "execution_count": 8,
   "metadata": {},
   "outputs": [],
   "source": [
    "import sqlite3\n",
    "#Create a connection\n",
    "conn = sqlite3.connect('customer.db')\n",
    "#Create a cursor\n",
    "c=conn.cursor()\n",
    "#Query all records from a table in the DB\n",
    "c.execute(\"\"\"UPDATE customers SET first_name='Brook' \n",
    "                        WHERE last_name='Fitwi'\"\"\")\n",
    "#Commit\n",
    "conn.commit()\n",
    "# close connection\n",
    "conn.close()"
   ]
  },
  {
   "cell_type": "markdown",
   "metadata": {},
   "source": [
    "## <font color='green'>Deleting Records</font>"
   ]
  },
  {
   "cell_type": "code",
   "execution_count": 9,
   "metadata": {},
   "outputs": [],
   "source": [
    "import sqlite3\n",
    "#Create a connection\n",
    "conn = sqlite3.connect('customer.db')\n",
    "#Create a cursor\n",
    "c=conn.cursor()\n",
    "#Query all records from a table in the DB\n",
    "c.execute(\"DELETE FROM customers WHERE rowid=4\")\n",
    "#Commit\n",
    "conn.commit()\n",
    "# close connection\n",
    "conn.close()"
   ]
  },
  {
   "cell_type": "markdown",
   "metadata": {},
   "source": [
    "## <font color='green'>Order Results by something</font>"
   ]
  },
  {
   "cell_type": "code",
   "execution_count": 10,
   "metadata": {},
   "outputs": [
    {
     "name": "stdout",
     "output_type": "stream",
     "text": [
      "(1, 'Brook', 'Fitwi', 'ahf@a.com')\n",
      "(2, 'Wes', 'Brown', 'brown@w.com')\n",
      "(5, 'Feven', 'Gerlase', 'feven@g.com')\n",
      "(6, 'Bob', 'Mar', 'Mar@b.yahoo')\n",
      "(7, 'Marry', 'Ball', 'ball@m.yahoo')\n",
      "(8, 'Brook', 'Fitwi', 'fitwi@a.yahoo')\n"
     ]
    }
   ],
   "source": [
    "import sqlite3\n",
    "#Create a connection\n",
    "conn = sqlite3.connect('customer.db')\n",
    "#Create a cursor\n",
    "c=conn.cursor()\n",
    "#Query all records from a table in the DB\n",
    "c.execute(\"SELECT rowid,*FROM customers ORDER BY rowid ASC\")\n",
    "                                        #ASC default\n",
    "items=c.fetchall()\n",
    "# close connection\n",
    "conn.close()\n",
    "for item in items:\n",
    "    print(item)"
   ]
  },
  {
   "cell_type": "code",
   "execution_count": 11,
   "metadata": {},
   "outputs": [
    {
     "name": "stdout",
     "output_type": "stream",
     "text": [
      "(8, 'Brook', 'Fitwi', 'fitwi@a.yahoo')\n",
      "(7, 'Marry', 'Ball', 'ball@m.yahoo')\n",
      "(6, 'Bob', 'Mar', 'Mar@b.yahoo')\n",
      "(5, 'Feven', 'Gerlase', 'feven@g.com')\n",
      "(2, 'Wes', 'Brown', 'brown@w.com')\n",
      "(1, 'Brook', 'Fitwi', 'ahf@a.com')\n"
     ]
    }
   ],
   "source": [
    "import sqlite3\n",
    "#Create a connection\n",
    "conn = sqlite3.connect('customer.db')\n",
    "#Create a cursor\n",
    "c=conn.cursor()\n",
    "#Query all records from a table in the DB\n",
    "c.execute(\"SELECT rowid,*FROM customers ORDER BY rowid DESC\")\n",
    "                                        #ASC default\n",
    "items=c.fetchall()\n",
    "# close connection\n",
    "conn.close()\n",
    "for item in items:\n",
    "    print(item)"
   ]
  },
  {
   "cell_type": "code",
   "execution_count": 12,
   "metadata": {},
   "outputs": [
    {
     "name": "stdout",
     "output_type": "stream",
     "text": [
      "(7, 'Marry', 'Ball', 'ball@m.yahoo')\n",
      "(2, 'Wes', 'Brown', 'brown@w.com')\n",
      "(1, 'Brook', 'Fitwi', 'ahf@a.com')\n",
      "(8, 'Brook', 'Fitwi', 'fitwi@a.yahoo')\n",
      "(5, 'Feven', 'Gerlase', 'feven@g.com')\n",
      "(6, 'Bob', 'Mar', 'Mar@b.yahoo')\n"
     ]
    }
   ],
   "source": [
    "import sqlite3\n",
    "#Create a connection\n",
    "conn = sqlite3.connect('customer.db')\n",
    "#Create a cursor\n",
    "c=conn.cursor()\n",
    "#Query all records from a table in the DB\n",
    "c.execute(\"SELECT rowid,*FROM customers ORDER BY last_name\")\n",
    "                                        #ASC default\n",
    "items=c.fetchall()\n",
    "#Commit\n",
    "conn.commit()\n",
    "# close connection\n",
    "conn.close()\n",
    "for item in items:\n",
    "    print(item)"
   ]
  },
  {
   "cell_type": "markdown",
   "metadata": {},
   "source": [
    "## <font color='green'>AND and OR</font>\n",
    "Used for handling multiple/compound conditions"
   ]
  },
  {
   "cell_type": "code",
   "execution_count": 13,
   "metadata": {},
   "outputs": [
    {
     "name": "stdout",
     "output_type": "stream",
     "text": [
      "(1, 'Brook', 'Fitwi', 'ahf@a.com')\n"
     ]
    }
   ],
   "source": [
    "import sqlite3\n",
    "#Create a connection\n",
    "conn = sqlite3.connect('customer.db')\n",
    "#Create a cursor\n",
    "c=conn.cursor()\n",
    "#Query all records from a table in the DB\n",
    "c.execute(\"\"\"SELECT rowid, * FROM customers WHERE first_name LIKE \n",
    "'Br%' AND rowid=1\"\"\")\n",
    "items=c.fetchall()\n",
    "# close connection\n",
    "conn.close()\n",
    "for item in items:\n",
    "    print(item)"
   ]
  },
  {
   "cell_type": "code",
   "execution_count": 14,
   "metadata": {},
   "outputs": [
    {
     "name": "stdout",
     "output_type": "stream",
     "text": [
      "(1, 'Brook', 'Fitwi', 'ahf@a.com')\n",
      "(2, 'Wes', 'Brown', 'brown@w.com')\n"
     ]
    }
   ],
   "source": [
    "import sqlite3\n",
    "#Create a connection\n",
    "conn = sqlite3.connect('customer.db')\n",
    "#Create a cursor\n",
    "c=conn.cursor()\n",
    "#Query all records from a table in the DB\n",
    "c.execute(\"\"\"SELECT rowid, * FROM customers WHERE last_name LIKE \n",
    "'Br%' OR rowid=1\"\"\")\n",
    "items=c.fetchall()\n",
    "# close connection\n",
    "conn.close()\n",
    "for item in items:\n",
    "    print(item)"
   ]
  },
  {
   "cell_type": "markdown",
   "metadata": {},
   "source": [
    "## <font color='green'>Limiting Results</font>\n",
    "- The DB we are working on is small; however, in real world, the DB contains millions of records that can be loaded all at once.\n",
    "- Hence, having a limiting mechanism is vital\n",
    "- The LIMIT function is used in sqlite to limit the numbe rof records"
   ]
  },
  {
   "cell_type": "code",
   "execution_count": 15,
   "metadata": {},
   "outputs": [
    {
     "name": "stdout",
     "output_type": "stream",
     "text": [
      "(1, 'Brook', 'Fitwi', 'ahf@a.com')\n",
      "(2, 'Wes', 'Brown', 'brown@w.com')\n"
     ]
    }
   ],
   "source": [
    "# First N-records\n",
    "import sqlite3\n",
    "#Create a connection\n",
    "conn = sqlite3.connect('customer.db')\n",
    "#Create a cursor\n",
    "c=conn.cursor()\n",
    "#Query all records from a table in the DB\n",
    "c.execute(\"\"\"SELECT rowid, * FROM customers ORDER BY rowid LIMIT 2\"\"\")\n",
    "items=c.fetchall()\n",
    "# close connection\n",
    "conn.close()\n",
    "for item in items:\n",
    "    print(item)"
   ]
  },
  {
   "cell_type": "markdown",
   "metadata": {},
   "source": [
    "## <font color='green'>Dropping A Table</font>"
   ]
  },
  {
   "cell_type": "code",
   "execution_count": 16,
   "metadata": {},
   "outputs": [],
   "source": [
    "import sqlite3\n",
    "#Create a connection\n",
    "conn = sqlite3.connect('customer.db')\n",
    "#Create a cursor\n",
    "c=conn.cursor()\n",
    "#Query all records from a table in the DB\n",
    "c.execute(\"\"\"DROP TABLE customers\"\"\")\n",
    "#Commit\n",
    "conn.commit()\n",
    "# close connection\n",
    "conn.close()"
   ]
  },
  {
   "cell_type": "markdown",
   "metadata": {},
   "source": [
    "# <font color='green'>Section 3: Building a Simple Database App</font>"
   ]
  },
  {
   "cell_type": "markdown",
   "metadata": {},
   "source": [
    "## <font color='green'>Show All Function</font>\n",
    "Not a revolutionary app, but a simple one to display all records of a table in a DB."
   ]
  },
  {
   "cell_type": "code",
   "execution_count": 17,
   "metadata": {},
   "outputs": [],
   "source": [
    "import sqlite3\n",
    "conn = sqlite3.connect('customer.db')\n",
    "c=conn.cursor()\n",
    "c.execute(\"\"\"CREATE TABLE customers(\n",
    "              first_name text, last_name text, email text)\"\"\")\n",
    "conn.commit()\n",
    "conn.close()"
   ]
  },
  {
   "cell_type": "code",
   "execution_count": 18,
   "metadata": {},
   "outputs": [],
   "source": [
    "import sqlite3\n",
    "#Create a connection\n",
    "conn = sqlite3.connect('customer.db')\n",
    "#Create a cursor\n",
    "c=conn.cursor()\n",
    "#Create a table --> ?,?,? are placeholders\n",
    "mult_lst=[('Alem','Fitwi','ahf@a.com'),\n",
    "          ('Wes','Brown','brown@w.com'),\n",
    "          ('Steve','Wan','wan@s.com'),\n",
    "          ('Keven','Brown','brown@k.com')]\n",
    "c.executemany(\"INSERT INTO customers VALUES(?,?,?)\", mult_lst)\n",
    "#Commit\n",
    "conn.commit()\n",
    "# close connection\n",
    "conn.close()"
   ]
  },
  {
   "cell_type": "code",
   "execution_count": 19,
   "metadata": {},
   "outputs": [],
   "source": [
    "import sqlite3\n",
    "def show_all():\n",
    "    #Create a connection\n",
    "    conn = sqlite3.connect('customer.db')\n",
    "    #Create a cursor\n",
    "    c=conn.cursor()\n",
    "    #Query the DB\n",
    "    c.execute(\"\"\"SELECT rowid, * FROM customers\"\"\")\n",
    "    items=c.fetchall()\n",
    "    # close connection\n",
    "    conn.close()\n",
    "    for item in items:\n",
    "        print(item)"
   ]
  },
  {
   "cell_type": "code",
   "execution_count": 20,
   "metadata": {},
   "outputs": [
    {
     "name": "stdout",
     "output_type": "stream",
     "text": [
      "(1, 'Alem', 'Fitwi', 'ahf@a.com')\n",
      "(2, 'Wes', 'Brown', 'brown@w.com')\n",
      "(3, 'Steve', 'Wan', 'wan@s.com')\n",
      "(4, 'Keven', 'Brown', 'brown@k.com')\n"
     ]
    }
   ],
   "source": [
    "show_all()"
   ]
  },
  {
   "cell_type": "markdown",
   "metadata": {},
   "source": [
    "## <font color='green'>Add A Record Function</font>"
   ]
  },
  {
   "cell_type": "code",
   "execution_count": 21,
   "metadata": {},
   "outputs": [],
   "source": [
    "import sqlite3\n",
    "def add_one(first, last, email):\n",
    "    #Create a connection\n",
    "    conn = sqlite3.connect('customer.db')\n",
    "    #Create a cursor\n",
    "    c=conn.cursor()\n",
    "    #Query the DB\n",
    "    c.execute(\"\"\"INSERT INTO customers VALUES(?,?,?)\"\"\",\n",
    "    (first, last, email))\n",
    "    #Commit\n",
    "    conn.commit()\n",
    "    # close connection\n",
    "    conn.close()    "
   ]
  },
  {
   "cell_type": "code",
   "execution_count": 22,
   "metadata": {},
   "outputs": [
    {
     "name": "stdout",
     "output_type": "stream",
     "text": [
      "(1, 'Alem', 'Fitwi', 'ahf@a.com')\n",
      "(2, 'Wes', 'Brown', 'brown@w.com')\n",
      "(3, 'Steve', 'Wan', 'wan@s.com')\n",
      "(4, 'Keven', 'Brown', 'brown@k.com')\n",
      "(5, 'Feven', 'Gerlase', 'feven@g.com')\n"
     ]
    }
   ],
   "source": [
    "add_one(\"Feven\", \"Gerlase\", \"feven@g.com\")\n",
    "show_all()"
   ]
  },
  {
   "cell_type": "markdown",
   "metadata": {},
   "source": [
    "## <font color='green'>Delete A Record Function</font>"
   ]
  },
  {
   "cell_type": "code",
   "execution_count": 23,
   "metadata": {},
   "outputs": [],
   "source": [
    "import sqlite3\n",
    "def delete_one(id1):\n",
    "    #Create a connection\n",
    "    conn = sqlite3.connect('customer.db')\n",
    "    #Create a cursor\n",
    "    c=conn.cursor()\n",
    "    #Query the DB\n",
    "    c.execute(\"\"\"DELETE FROM customers WHERE rowid=(?)\"\"\",id1)\n",
    "    #Commit\n",
    "    conn.commit()\n",
    "    # close connection\n",
    "    conn.close()    "
   ]
  },
  {
   "cell_type": "code",
   "execution_count": 24,
   "metadata": {},
   "outputs": [
    {
     "name": "stdout",
     "output_type": "stream",
     "text": [
      "(1, 'Alem', 'Fitwi', 'ahf@a.com')\n",
      "(2, 'Wes', 'Brown', 'brown@w.com')\n",
      "(4, 'Keven', 'Brown', 'brown@k.com')\n",
      "(5, 'Feven', 'Gerlase', 'feven@g.com')\n"
     ]
    }
   ],
   "source": [
    "delete_one('3')\n",
    "show_all()"
   ]
  },
  {
   "cell_type": "markdown",
   "metadata": {},
   "source": [
    "## <font color='green'>Add A Bunch of Records</font>"
   ]
  },
  {
   "cell_type": "code",
   "execution_count": 25,
   "metadata": {},
   "outputs": [],
   "source": [
    "import sqlite3\n",
    "def add_many(lst):\n",
    "    #Create a connection\n",
    "    conn = sqlite3.connect('customer.db')\n",
    "    #Create a cursor\n",
    "    c=conn.cursor()\n",
    "    #Query the DB\n",
    "    c.executemany(\"\"\"INSERT INTO customers VALUES (?,?,?)\"\"\",lst)\n",
    "    #Commit\n",
    "    conn.commit()\n",
    "    # close connection\n",
    "    conn.close()    "
   ]
  },
  {
   "cell_type": "code",
   "execution_count": 26,
   "metadata": {},
   "outputs": [
    {
     "name": "stdout",
     "output_type": "stream",
     "text": [
      "(1, 'Alem', 'Fitwi', 'ahf@a.com')\n",
      "(2, 'Wes', 'Brown', 'brown@w.com')\n",
      "(4, 'Keven', 'Brown', 'brown@k.com')\n",
      "(5, 'Feven', 'Gerlase', 'feven@g.com')\n",
      "(6, 'Bob', 'Mar', 'Mar@b.yahoo')\n",
      "(7, 'Marry', 'Ball', 'ball@m.yahoo')\n",
      "(8, 'Amman', 'Fitwi', 'fitwi@a.yahoo')\n"
     ]
    }
   ],
   "source": [
    "lst=[('Bob','Mar','Mar@b.yahoo'),\n",
    "     ('Marry','Ball','ball@m.yahoo'),\n",
    "     ('Amman','Fitwi','fitwi@a.yahoo')]\n",
    "add_many(lst)\n",
    "show_all()"
   ]
  },
  {
   "cell_type": "markdown",
   "metadata": {},
   "source": [
    "## <font color='green'>Where Clause Function</font>\n",
    "- Silly, though!\n",
    "- Lookup with where clause (Query)"
   ]
  },
  {
   "cell_type": "code",
   "execution_count": 27,
   "metadata": {},
   "outputs": [],
   "source": [
    "import sqlite3\n",
    "def email_lookup(email):\n",
    "    #Create a connection\n",
    "    conn = sqlite3.connect('customer.db')\n",
    "    #Create a cursor\n",
    "    c=conn.cursor()\n",
    "    #Query the DB\n",
    "    c.execute(\"\"\"SELECT rowid, *FROM customers WHERE email=(?)\"\"\",\n",
    "    (email,))\n",
    "    #Fetch\n",
    "    items=c.fetchall()  \n",
    "    for item in items:\n",
    "        print(item)\n",
    "    print(\"rcount=\",c.execute('SELECT * FROM customers').rowcount)\n",
    "    print(\"# of rows=\",len(items))\n",
    "    # close connection\n",
    "    conn.close()      "
   ]
  },
  {
   "cell_type": "code",
   "execution_count": 28,
   "metadata": {},
   "outputs": [
    {
     "name": "stdout",
     "output_type": "stream",
     "text": [
      "(1, 'Alem', 'Fitwi', 'ahf@a.com')\n",
      "rcount= -1\n",
      "# of rows= 1\n"
     ]
    }
   ],
   "source": [
    "email_lookup('ahf@a.com')"
   ]
  },
  {
   "cell_type": "code",
   "execution_count": null,
   "metadata": {},
   "outputs": [],
   "source": []
  },
  {
   "cell_type": "code",
   "execution_count": null,
   "metadata": {},
   "outputs": [],
   "source": []
  },
  {
   "cell_type": "code",
   "execution_count": null,
   "metadata": {},
   "outputs": [],
   "source": []
  }
 ],
 "metadata": {
  "kernelspec": {
   "display_name": "Python 3",
   "language": "python",
   "name": "python3"
  },
  "language_info": {
   "codemirror_mode": {
    "name": "ipython",
    "version": 3
   },
   "file_extension": ".py",
   "mimetype": "text/x-python",
   "name": "python",
   "nbconvert_exporter": "python",
   "pygments_lexer": "ipython3",
   "version": "3.7.6"
  }
 },
 "nbformat": 4,
 "nbformat_minor": 4
}
